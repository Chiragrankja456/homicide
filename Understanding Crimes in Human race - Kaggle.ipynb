{
 "cells": [
  {
   "cell_type": "markdown",
   "metadata": {},
   "source": [
    "## Understanding Crimes in Human race\n",
    "\n",
    "This is an attempt to understand the correlations of various variables using R, in a dataset recorded for the period of 35 years.\n",
    "\n",
    "** (Assumption is made that the dataset records applies and holds true for entire world and not just for the USA)"
   ]
  },
  {
   "cell_type": "code",
   "execution_count": 1,
   "metadata": {
    "collapsed": true
   },
   "outputs": [],
   "source": [
    "hc<-read.csv(\"E:/Analytics/Datasets/hc.csv\",header=T)"
   ]
  },
  {
   "cell_type": "markdown",
   "metadata": {},
   "source": [
    "This dataset records the homicide crimes over the period of 1980 to 2015. It has been downloaded for the analysis from the link : <https://www.kaggle.com/murderaccountability/homicide-reports>"
   ]
  },
  {
   "cell_type": "markdown",
   "metadata": {},
   "source": [
    "### Preprocessing the dataset\n",
    "\n",
    "** Here, we are not going to smooth the data for noise. That will be done prior to using data for predictive model. Noise reduction will leave us a small dataset."
   ]
  },
  {
   "cell_type": "code",
   "execution_count": 2,
   "metadata": {
    "collapsed": false
   },
   "outputs": [
    {
     "data": {
      "text/html": [
       "<table>\n",
       "<thead><tr><th></th><th scope=col>sapply(hc, class)</th></tr></thead>\n",
       "<tbody>\n",
       "\t<tr><th scope=row>Record.ID</th><td>integer</td></tr>\n",
       "\t<tr><th scope=row>Agency.Code</th><td>factor </td></tr>\n",
       "\t<tr><th scope=row>Agency.Name</th><td>factor </td></tr>\n",
       "\t<tr><th scope=row>Agency.Type</th><td>factor </td></tr>\n",
       "\t<tr><th scope=row>City</th><td>factor </td></tr>\n",
       "\t<tr><th scope=row>State</th><td>factor </td></tr>\n",
       "\t<tr><th scope=row>Year</th><td>integer</td></tr>\n",
       "\t<tr><th scope=row>Month</th><td>factor </td></tr>\n",
       "\t<tr><th scope=row>Incident</th><td>integer</td></tr>\n",
       "\t<tr><th scope=row>Crime.Type</th><td>factor </td></tr>\n",
       "\t<tr><th scope=row>Crime.Solved</th><td>factor </td></tr>\n",
       "\t<tr><th scope=row>Victim.Sex</th><td>factor </td></tr>\n",
       "\t<tr><th scope=row>Victim.Age</th><td>integer</td></tr>\n",
       "\t<tr><th scope=row>Victim.Race</th><td>factor </td></tr>\n",
       "\t<tr><th scope=row>Victim.Ethnicity</th><td>factor </td></tr>\n",
       "\t<tr><th scope=row>Perpetrator.Sex</th><td>factor </td></tr>\n",
       "\t<tr><th scope=row>Perpetrator.Age</th><td>integer</td></tr>\n",
       "\t<tr><th scope=row>Perpetrator.Race</th><td>factor </td></tr>\n",
       "\t<tr><th scope=row>Perpetrator.Ethnicity</th><td>factor </td></tr>\n",
       "\t<tr><th scope=row>Relationship</th><td>factor </td></tr>\n",
       "\t<tr><th scope=row>Weapon</th><td>factor </td></tr>\n",
       "\t<tr><th scope=row>Victim.Count</th><td>integer</td></tr>\n",
       "\t<tr><th scope=row>Perpetrator.Count</th><td>integer</td></tr>\n",
       "\t<tr><th scope=row>Record.Source</th><td>factor </td></tr>\n",
       "</tbody>\n",
       "</table>\n"
      ],
      "text/latex": [
       "\\begin{tabular}{r|l}\n",
       "  & sapply(hc, class)\\\\\n",
       "\\hline\n",
       "\tRecord.ID & integer\\\\\n",
       "\tAgency.Code & factor \\\\\n",
       "\tAgency.Name & factor \\\\\n",
       "\tAgency.Type & factor \\\\\n",
       "\tCity & factor \\\\\n",
       "\tState & factor \\\\\n",
       "\tYear & integer\\\\\n",
       "\tMonth & factor \\\\\n",
       "\tIncident & integer\\\\\n",
       "\tCrime.Type & factor \\\\\n",
       "\tCrime.Solved & factor \\\\\n",
       "\tVictim.Sex & factor \\\\\n",
       "\tVictim.Age & integer\\\\\n",
       "\tVictim.Race & factor \\\\\n",
       "\tVictim.Ethnicity & factor \\\\\n",
       "\tPerpetrator.Sex & factor \\\\\n",
       "\tPerpetrator.Age & integer\\\\\n",
       "\tPerpetrator.Race & factor \\\\\n",
       "\tPerpetrator.Ethnicity & factor \\\\\n",
       "\tRelationship & factor \\\\\n",
       "\tWeapon & factor \\\\\n",
       "\tVictim.Count & integer\\\\\n",
       "\tPerpetrator.Count & integer\\\\\n",
       "\tRecord.Source & factor \\\\\n",
       "\\end{tabular}\n"
      ],
      "text/markdown": [
       "\n",
       "| <!--/--> | sapply(hc, class) | \n",
       "|---|---|---|---|---|---|---|---|---|---|---|---|---|---|---|---|---|---|---|---|---|---|---|---|\n",
       "| Record.ID | integer | \n",
       "| Agency.Code | factor  | \n",
       "| Agency.Name | factor  | \n",
       "| Agency.Type | factor  | \n",
       "| City | factor  | \n",
       "| State | factor  | \n",
       "| Year | integer | \n",
       "| Month | factor  | \n",
       "| Incident | integer | \n",
       "| Crime.Type | factor  | \n",
       "| Crime.Solved | factor  | \n",
       "| Victim.Sex | factor  | \n",
       "| Victim.Age | integer | \n",
       "| Victim.Race | factor  | \n",
       "| Victim.Ethnicity | factor  | \n",
       "| Perpetrator.Sex | factor  | \n",
       "| Perpetrator.Age | integer | \n",
       "| Perpetrator.Race | factor  | \n",
       "| Perpetrator.Ethnicity | factor  | \n",
       "| Relationship | factor  | \n",
       "| Weapon | factor  | \n",
       "| Victim.Count | integer | \n",
       "| Perpetrator.Count | integer | \n",
       "| Record.Source | factor  | \n",
       "\n",
       "\n"
      ],
      "text/plain": [
       "                      sapply(hc, class)\n",
       "Record.ID             integer          \n",
       "Agency.Code           factor           \n",
       "Agency.Name           factor           \n",
       "Agency.Type           factor           \n",
       "City                  factor           \n",
       "State                 factor           \n",
       "Year                  integer          \n",
       "Month                 factor           \n",
       "Incident              integer          \n",
       "Crime.Type            factor           \n",
       "Crime.Solved          factor           \n",
       "Victim.Sex            factor           \n",
       "Victim.Age            integer          \n",
       "Victim.Race           factor           \n",
       "Victim.Ethnicity      factor           \n",
       "Perpetrator.Sex       factor           \n",
       "Perpetrator.Age       integer          \n",
       "Perpetrator.Race      factor           \n",
       "Perpetrator.Ethnicity factor           \n",
       "Relationship          factor           \n",
       "Weapon                factor           \n",
       "Victim.Count          integer          \n",
       "Perpetrator.Count     integer          \n",
       "Record.Source         factor           "
      ]
     },
     "metadata": {},
     "output_type": "display_data"
    }
   ],
   "source": [
    "as.data.frame(sapply(hc,class))"
   ]
  },
  {
   "cell_type": "markdown",
   "metadata": {},
   "source": [
    "Most number of the variables in the dataset are of Categorical in nature."
   ]
  },
  {
   "cell_type": "markdown",
   "metadata": {},
   "source": [
    "Let's check the dataset for the \"na\""
   ]
  },
  {
   "cell_type": "code",
   "execution_count": 3,
   "metadata": {
    "collapsed": false
   },
   "outputs": [
    {
     "data": {
      "text/html": [
       "1"
      ],
      "text/latex": [
       "1"
      ],
      "text/markdown": [
       "1"
      ],
      "text/plain": [
       "[1] 1"
      ]
     },
     "metadata": {},
     "output_type": "display_data"
    }
   ],
   "source": [
    "sum(is.na(hc))"
   ]
  },
  {
   "cell_type": "markdown",
   "metadata": {},
   "source": [
    "\"na\" fileds will create a problem while plotting the data and using few of the correlation algorithms. Let's **omit** all \"na\" values in next process"
   ]
  },
  {
   "cell_type": "code",
   "execution_count": 4,
   "metadata": {
    "collapsed": true
   },
   "outputs": [],
   "source": [
    "hc.1<-na.omit(hc)"
   ]
  },
  {
   "cell_type": "markdown",
   "metadata": {},
   "source": [
    "For this analysis we'll skip using the first five columns. There is no particular reason behind this step, though including those five columns will not help the analysis any better."
   ]
  },
  {
   "cell_type": "code",
   "execution_count": 5,
   "metadata": {
    "collapsed": true
   },
   "outputs": [],
   "source": [
    "hc.1<-hc[,-c(1:5)]"
   ]
  },
  {
   "cell_type": "code",
   "execution_count": 6,
   "metadata": {
    "collapsed": false
   },
   "outputs": [
    {
     "data": {
      "text/html": [
       "<ol class=list-inline>\n",
       "\t<li>638454</li>\n",
       "\t<li>19</li>\n",
       "</ol>\n"
      ],
      "text/latex": [
       "\\begin{enumerate*}\n",
       "\\item 638454\n",
       "\\item 19\n",
       "\\end{enumerate*}\n"
      ],
      "text/markdown": [
       "1. 638454\n",
       "2. 19\n",
       "\n",
       "\n"
      ],
      "text/plain": [
       "[1] 638454     19"
      ]
     },
     "metadata": {},
     "output_type": "display_data"
    }
   ],
   "source": [
    "dim(hc.1)"
   ]
  },
  {
   "cell_type": "markdown",
   "metadata": {},
   "source": [
    "Now let's find out how the dataset looks like after the preprocessing step."
   ]
  },
  {
   "cell_type": "code",
   "execution_count": 7,
   "metadata": {
    "collapsed": false
   },
   "outputs": [
    {
     "data": {
      "text/html": [
       "<table>\n",
       "<thead><tr><th scope=col>State</th><th scope=col>Year</th><th scope=col>Month</th><th scope=col>Incident</th><th scope=col>Crime.Type</th><th scope=col>Crime.Solved</th><th scope=col>Victim.Sex</th><th scope=col>Victim.Age</th><th scope=col>Victim.Race</th><th scope=col>Victim.Ethnicity</th><th scope=col>Perpetrator.Sex</th><th scope=col>Perpetrator.Age</th><th scope=col>Perpetrator.Race</th><th scope=col>Perpetrator.Ethnicity</th><th scope=col>Relationship</th><th scope=col>Weapon</th><th scope=col>Victim.Count</th><th scope=col>Perpetrator.Count</th><th scope=col>Record.Source</th></tr></thead>\n",
       "<tbody>\n",
       "\t<tr><td>Alaska                       </td><td>1980                         </td><td>January                      </td><td>1                            </td><td>Murder or Manslaughter       </td><td>Yes                          </td><td>Male                         </td><td>14                           </td><td>Native American/Alaska Native</td><td>Unknown                      </td><td>Male                         </td><td>15                           </td><td>Native American/Alaska Native</td><td>Unknown                      </td><td>Acquaintance                 </td><td>Blunt Object                 </td><td>0                            </td><td>0                            </td><td>FBI                          </td></tr>\n",
       "\t<tr><td>Alaska                       </td><td>1980                         </td><td>March                        </td><td>1                            </td><td>Murder or Manslaughter       </td><td>Yes                          </td><td>Male                         </td><td>43                           </td><td>White                        </td><td>Unknown                      </td><td>Male                         </td><td>42                           </td><td>White                        </td><td>Unknown                      </td><td>Acquaintance                 </td><td>Strangulation                </td><td>0                            </td><td>0                            </td><td>FBI                          </td></tr>\n",
       "\t<tr><td>Alaska                       </td><td>1980                         </td><td>March                        </td><td>2                            </td><td>Murder or Manslaughter       </td><td>No                           </td><td>Female                       </td><td>30                           </td><td>Native American/Alaska Native</td><td>Unknown                      </td><td>Unknown                      </td><td> 0                           </td><td>Unknown                      </td><td>Unknown                      </td><td>Unknown                      </td><td>Unknown                      </td><td>0                            </td><td>0                            </td><td>FBI                          </td></tr>\n",
       "\t<tr><td>Alaska                       </td><td>1980                         </td><td>April                        </td><td>1                            </td><td>Murder or Manslaughter       </td><td>Yes                          </td><td>Male                         </td><td>43                           </td><td>White                        </td><td>Unknown                      </td><td>Male                         </td><td>42                           </td><td>White                        </td><td>Unknown                      </td><td>Acquaintance                 </td><td>Strangulation                </td><td>0                            </td><td>0                            </td><td>FBI                          </td></tr>\n",
       "\t<tr><td>Alaska                       </td><td>1980                         </td><td>April                        </td><td>2                            </td><td>Murder or Manslaughter       </td><td>No                           </td><td>Female                       </td><td>30                           </td><td>Native American/Alaska Native</td><td>Unknown                      </td><td>Unknown                      </td><td> 0                           </td><td>Unknown                      </td><td>Unknown                      </td><td>Unknown                      </td><td>Unknown                      </td><td>0                            </td><td>1                            </td><td>FBI                          </td></tr>\n",
       "\t<tr><td>Alaska                       </td><td>1980                         </td><td>May                          </td><td>1                            </td><td>Murder or Manslaughter       </td><td>Yes                          </td><td>Male                         </td><td>30                           </td><td>White                        </td><td>Unknown                      </td><td>Male                         </td><td>36                           </td><td>White                        </td><td>Unknown                      </td><td>Acquaintance                 </td><td>Rifle                        </td><td>0                            </td><td>0                            </td><td>FBI                          </td></tr>\n",
       "</tbody>\n",
       "</table>\n"
      ],
      "text/latex": [
       "\\begin{tabular}{r|lllllllllllllllllll}\n",
       " State & Year & Month & Incident & Crime.Type & Crime.Solved & Victim.Sex & Victim.Age & Victim.Race & Victim.Ethnicity & Perpetrator.Sex & Perpetrator.Age & Perpetrator.Race & Perpetrator.Ethnicity & Relationship & Weapon & Victim.Count & Perpetrator.Count & Record.Source\\\\\n",
       "\\hline\n",
       "\t Alaska                        & 1980                          & January                       & 1                             & Murder or Manslaughter        & Yes                           & Male                          & 14                            & Native American/Alaska Native & Unknown                       & Male                          & 15                            & Native American/Alaska Native & Unknown                       & Acquaintance                  & Blunt Object                  & 0                             & 0                             & FBI                          \\\\\n",
       "\t Alaska                        & 1980                          & March                         & 1                             & Murder or Manslaughter        & Yes                           & Male                          & 43                            & White                         & Unknown                       & Male                          & 42                            & White                         & Unknown                       & Acquaintance                  & Strangulation                 & 0                             & 0                             & FBI                          \\\\\n",
       "\t Alaska                        & 1980                          & March                         & 2                             & Murder or Manslaughter        & No                            & Female                        & 30                            & Native American/Alaska Native & Unknown                       & Unknown                       &  0                            & Unknown                       & Unknown                       & Unknown                       & Unknown                       & 0                             & 0                             & FBI                          \\\\\n",
       "\t Alaska                        & 1980                          & April                         & 1                             & Murder or Manslaughter        & Yes                           & Male                          & 43                            & White                         & Unknown                       & Male                          & 42                            & White                         & Unknown                       & Acquaintance                  & Strangulation                 & 0                             & 0                             & FBI                          \\\\\n",
       "\t Alaska                        & 1980                          & April                         & 2                             & Murder or Manslaughter        & No                            & Female                        & 30                            & Native American/Alaska Native & Unknown                       & Unknown                       &  0                            & Unknown                       & Unknown                       & Unknown                       & Unknown                       & 0                             & 1                             & FBI                          \\\\\n",
       "\t Alaska                        & 1980                          & May                           & 1                             & Murder or Manslaughter        & Yes                           & Male                          & 30                            & White                         & Unknown                       & Male                          & 36                            & White                         & Unknown                       & Acquaintance                  & Rifle                         & 0                             & 0                             & FBI                          \\\\\n",
       "\\end{tabular}\n"
      ],
      "text/markdown": [
       "\n",
       "State | Year | Month | Incident | Crime.Type | Crime.Solved | Victim.Sex | Victim.Age | Victim.Race | Victim.Ethnicity | Perpetrator.Sex | Perpetrator.Age | Perpetrator.Race | Perpetrator.Ethnicity | Relationship | Weapon | Victim.Count | Perpetrator.Count | Record.Source | \n",
       "|---|---|---|---|---|---|\n",
       "| Alaska                        | 1980                          | January                       | 1                             | Murder or Manslaughter        | Yes                           | Male                          | 14                            | Native American/Alaska Native | Unknown                       | Male                          | 15                            | Native American/Alaska Native | Unknown                       | Acquaintance                  | Blunt Object                  | 0                             | 0                             | FBI                           | \n",
       "| Alaska                        | 1980                          | March                         | 1                             | Murder or Manslaughter        | Yes                           | Male                          | 43                            | White                         | Unknown                       | Male                          | 42                            | White                         | Unknown                       | Acquaintance                  | Strangulation                 | 0                             | 0                             | FBI                           | \n",
       "| Alaska                        | 1980                          | March                         | 2                             | Murder or Manslaughter        | No                            | Female                        | 30                            | Native American/Alaska Native | Unknown                       | Unknown                       |  0                            | Unknown                       | Unknown                       | Unknown                       | Unknown                       | 0                             | 0                             | FBI                           | \n",
       "| Alaska                        | 1980                          | April                         | 1                             | Murder or Manslaughter        | Yes                           | Male                          | 43                            | White                         | Unknown                       | Male                          | 42                            | White                         | Unknown                       | Acquaintance                  | Strangulation                 | 0                             | 0                             | FBI                           | \n",
       "| Alaska                        | 1980                          | April                         | 2                             | Murder or Manslaughter        | No                            | Female                        | 30                            | Native American/Alaska Native | Unknown                       | Unknown                       |  0                            | Unknown                       | Unknown                       | Unknown                       | Unknown                       | 0                             | 1                             | FBI                           | \n",
       "| Alaska                        | 1980                          | May                           | 1                             | Murder or Manslaughter        | Yes                           | Male                          | 30                            | White                         | Unknown                       | Male                          | 36                            | White                         | Unknown                       | Acquaintance                  | Rifle                         | 0                             | 0                             | FBI                           | \n",
       "\n",
       "\n"
      ],
      "text/plain": [
       "  State  Year Month   Incident Crime.Type             Crime.Solved Victim.Sex\n",
       "1 Alaska 1980 January 1        Murder or Manslaughter Yes          Male      \n",
       "2 Alaska 1980 March   1        Murder or Manslaughter Yes          Male      \n",
       "3 Alaska 1980 March   2        Murder or Manslaughter No           Female    \n",
       "4 Alaska 1980 April   1        Murder or Manslaughter Yes          Male      \n",
       "5 Alaska 1980 April   2        Murder or Manslaughter No           Female    \n",
       "6 Alaska 1980 May     1        Murder or Manslaughter Yes          Male      \n",
       "  Victim.Age Victim.Race                   Victim.Ethnicity Perpetrator.Sex\n",
       "1 14         Native American/Alaska Native Unknown          Male           \n",
       "2 43         White                         Unknown          Male           \n",
       "3 30         Native American/Alaska Native Unknown          Unknown        \n",
       "4 43         White                         Unknown          Male           \n",
       "5 30         Native American/Alaska Native Unknown          Unknown        \n",
       "6 30         White                         Unknown          Male           \n",
       "  Perpetrator.Age Perpetrator.Race              Perpetrator.Ethnicity\n",
       "1 15              Native American/Alaska Native Unknown              \n",
       "2 42              White                         Unknown              \n",
       "3  0              Unknown                       Unknown              \n",
       "4 42              White                         Unknown              \n",
       "5  0              Unknown                       Unknown              \n",
       "6 36              White                         Unknown              \n",
       "  Relationship Weapon        Victim.Count Perpetrator.Count Record.Source\n",
       "1 Acquaintance Blunt Object  0            0                 FBI          \n",
       "2 Acquaintance Strangulation 0            0                 FBI          \n",
       "3 Unknown      Unknown       0            0                 FBI          \n",
       "4 Acquaintance Strangulation 0            0                 FBI          \n",
       "5 Unknown      Unknown       0            1                 FBI          \n",
       "6 Acquaintance Rifle         0            0                 FBI          "
      ]
     },
     "metadata": {},
     "output_type": "display_data"
    }
   ],
   "source": [
    "head(hc.1)"
   ]
  },
  {
   "cell_type": "markdown",
   "metadata": {},
   "source": [
    "## Understanding correlations and implications"
   ]
  },
  {
   "cell_type": "markdown",
   "metadata": {},
   "source": [
    "Now, let's first understand what sex is the most victimized over these years."
   ]
  },
  {
   "cell_type": "code",
   "execution_count": 8,
   "metadata": {
    "collapsed": false
   },
   "outputs": [
    {
     "data": {
      "text/plain": [
       "\n",
       "    Female       Male    Unknown \n",
       "22.4518916 77.3939861  0.1541223 "
      ]
     },
     "metadata": {},
     "output_type": "display_data"
    }
   ],
   "source": [
    "table(hc.1$Victim.Sex)/nrow(hc.1)*100"
   ]
  },
  {
   "cell_type": "markdown",
   "metadata": {},
   "source": [
    "This means that, in the dataset 77.4% of the victims are of male sex. This could mean that the extreme incidents of rage or anger which leads to a homicide crime occurs mostly in males. This holds true even in Chimps. This artical <http://www.bbc.com/news/science-environment-29237276> notes that this phenomenon.\n",
    "\n",
    "For an alien outsider race, just this analysis is enough to undestand a typical characteristic of the Human race. Many more conclusions can be made using the above one figures; e.g., in Humans, male sex should more involved in cultural and societal structure leading to a cut throat competition for scarce resources available to demonstrate the domination of any single male over the group or any single individual."
   ]
  },
  {
   "cell_type": "markdown",
   "metadata": {},
   "source": [
    "Now, let's understands the relative effect of the above deduction. If the males denote any domination in being the Victims in the dataset, the domination should also verify the same for the Perpetrators."
   ]
  },
  {
   "cell_type": "code",
   "execution_count": 9,
   "metadata": {
    "collapsed": false
   },
   "outputs": [
    {
     "data": {
      "text/plain": [
       "\n",
       "   Female      Male   Unknown \n",
       " 7.603993 62.579450 29.816557 "
      ]
     },
     "metadata": {},
     "output_type": "display_data"
    }
   ],
   "source": [
    "table(hc.1$Perpetrator.Sex)/nrow(hc.1)*100"
   ]
  },
  {
   "cell_type": "markdown",
   "metadata": {},
   "source": [
    "If the Crime is assumed/understood as a social tool to establish the territory, gang and domination in Chimps or to express the most extreme Human emotions; we can dig down the roles and responsibilities of males in Chimps and males in humans. The above figures suggests that, since long, the few of the tools in social structures, over the evolutions, are more acceptable in males than in females.\n",
    "\n",
    "There are well noted and understood evidences, according to a school of thought which advocates Extinction by violence of Denisovans by Neanderthals. Most of the wars fought were led by males.\n",
    "\n",
    "** References are understood from book: The Sapiens by Yuval Harrari"
   ]
  },
  {
   "cell_type": "markdown",
   "metadata": {},
   "source": [
    "Let's now understand the environmental effect on the Crime rates. If this effect holds true, the rates should change over the months."
   ]
  },
  {
   "cell_type": "code",
   "execution_count": 10,
   "metadata": {
    "collapsed": false
   },
   "outputs": [
    {
     "data": {
      "text/plain": [
       "\n",
       "     July    August  December September      June   October       May   January \n",
       " 9.193458  9.095722  8.643849  8.476257  8.404991  8.403111  8.363014  8.290026 \n",
       "    March     April  November  February \n",
       " 8.057589  8.020781  7.833924  7.217278 "
      ]
     },
     "metadata": {},
     "output_type": "display_data"
    }
   ],
   "source": [
    "sort(table(hc.1$Month)/nrow(hc.1)*100,decreasing=T)"
   ]
  },
  {
   "cell_type": "markdown",
   "metadata": {},
   "source": [
    "Figures show kind of an even distribution of the crime rates (near about 8%) over the months. Although, there can be a significant effect of environmental condition playing a role on one month over the others, we will exclude those for this analysis.\n",
    "\n",
    "** (These effects are considered significant in nature as the change of just 0.097% in Crime rate compared to August in July (9.193458-9.095722) would convert into a 619 incidents July than in August. One can further understand the states where the number of crimes are higher in July as compared to August)\n",
    "\n",
    "** (One could also find out a typical timeline when these 619 incidents took place over the recorded 35 years to take into account of any socio eco political effect playing a role)"
   ]
  },
  {
   "cell_type": "markdown",
   "metadata": {},
   "source": [
    "Let's find out the top 10 States with highest numbers of recorded Crimes."
   ]
  },
  {
   "cell_type": "code",
   "execution_count": 11,
   "metadata": {
    "collapsed": false
   },
   "outputs": [
    {
     "data": {
      "text/plain": [
       "\n",
       "    California          Texas       New York        Florida       Michigan \n",
       "     15.628847       9.725838       7.716766       5.820936       4.455763 \n",
       "      Illinois   Pennsylvania        Georgia North Carolina      Louisiana \n",
       "      4.052132       3.796045       3.302979       3.193652       3.074458 "
      ]
     },
     "metadata": {},
     "output_type": "display_data"
    }
   ],
   "source": [
    "head(sort(table(hc.1$State)/nrow(hc.1)*100,decreasing=T),n=10)"
   ]
  },
  {
   "cell_type": "markdown",
   "metadata": {},
   "source": [
    "This shows that the CA state has a crime rate almost 1.6 times than the second in line state of TX. There can be ecological and socio economic explanation factors of such a high number of crimes in the state of CA, but for our further analysis we choose not to drill down into these factors."
   ]
  },
  {
   "cell_type": "markdown",
   "metadata": {},
   "source": [
    "Let's understand the distribution of Crime rates over the Victim Race\n",
    "\n",
    "(For this we'll use the help of **dplyr** package in R)"
   ]
  },
  {
   "cell_type": "code",
   "execution_count": 12,
   "metadata": {
    "collapsed": false
   },
   "outputs": [
    {
     "name": "stderr",
     "output_type": "stream",
     "text": [
      "Loading required package: dplyr\n",
      "\n",
      "Attaching package: 'dplyr'\n",
      "\n",
      "The following objects are masked from 'package:stats':\n",
      "\n",
      "    filter, lag\n",
      "\n",
      "The following objects are masked from 'package:base':\n",
      "\n",
      "    intersect, setdiff, setequal, union\n",
      "\n"
     ]
    }
   ],
   "source": [
    "require(dplyr)"
   ]
  },
  {
   "cell_type": "code",
   "execution_count": 13,
   "metadata": {
    "collapsed": false
   },
   "outputs": [
    {
     "data": {
      "text/html": [
       "<table>\n",
       "<thead><tr><th scope=col>Victim.Race</th><th scope=col>n</th><th scope=col>percentage</th></tr></thead>\n",
       "<tbody>\n",
       "\t<tr><td>White                        </td><td>317422                       </td><td>49.7172858                   </td></tr>\n",
       "\t<tr><td>Black                        </td><td>299899                       </td><td>46.9726871                   </td></tr>\n",
       "\t<tr><td>Asian/Pacific Islander       </td><td>  9890                       </td><td> 1.5490544                   </td></tr>\n",
       "\t<tr><td>Unknown                      </td><td>  6676                       </td><td> 1.0456509                   </td></tr>\n",
       "\t<tr><td>Native American/Alaska Native</td><td>  4567                       </td><td> 0.7153217                   </td></tr>\n",
       "</tbody>\n",
       "</table>\n"
      ],
      "text/latex": [
       "\\begin{tabular}{r|lll}\n",
       " Victim.Race & n & percentage\\\\\n",
       "\\hline\n",
       "\t White                         & 317422                        & 49.7172858                   \\\\\n",
       "\t Black                         & 299899                        & 46.9726871                   \\\\\n",
       "\t Asian/Pacific Islander        &   9890                        &  1.5490544                   \\\\\n",
       "\t Unknown                       &   6676                        &  1.0456509                   \\\\\n",
       "\t Native American/Alaska Native &   4567                        &  0.7153217                   \\\\\n",
       "\\end{tabular}\n"
      ],
      "text/markdown": [
       "\n",
       "Victim.Race | n | percentage | \n",
       "|---|---|---|---|---|\n",
       "| White                         | 317422                        | 49.7172858                    | \n",
       "| Black                         | 299899                        | 46.9726871                    | \n",
       "| Asian/Pacific Islander        |   9890                        |  1.5490544                    | \n",
       "| Unknown                       |   6676                        |  1.0456509                    | \n",
       "| Native American/Alaska Native |   4567                        |  0.7153217                    | \n",
       "\n",
       "\n"
      ],
      "text/plain": [
       "  Victim.Race                   n      percentage\n",
       "1 White                         317422 49.7172858\n",
       "2 Black                         299899 46.9726871\n",
       "3 Asian/Pacific Islander          9890  1.5490544\n",
       "4 Unknown                         6676  1.0456509\n",
       "5 Native American/Alaska Native   4567  0.7153217"
      ]
     },
     "metadata": {},
     "output_type": "display_data"
    }
   ],
   "source": [
    "hc.1 %>% group_by(Victim.Race) %>% count(sort=T)%>% mutate(percentage=n/nrow(hc.1)*100)"
   ]
  },
  {
   "cell_type": "markdown",
   "metadata": {},
   "source": [
    "This table show that the Crime rates are concentrated over just White and Black race. The Asian Pacific and Native Americans have a Victimization rate of ~ 1%. This could mean either both of the race have low numbers in populations, or could mean that the socio economical shares of both the race are limited.\n",
    "\n",
    "Again, we'll choose to move forward and not to analyse playing factors for Victim Race."
   ]
  },
  {
   "cell_type": "markdown",
   "metadata": {},
   "source": [
    "It will be meaningful to understand if the Ethnicity of the Victims have a concentrated distribution or not."
   ]
  },
  {
   "cell_type": "code",
   "execution_count": 14,
   "metadata": {
    "collapsed": false
   },
   "outputs": [
    {
     "data": {
      "text/html": [
       "<table>\n",
       "<thead><tr><th scope=col>Victim.Ethnicity</th><th scope=col>n</th><th scope=col>percentage</th></tr></thead>\n",
       "<tbody>\n",
       "\t<tr><td>Unknown     </td><td>368303      </td><td>57.68669    </td></tr>\n",
       "\t<tr><td>Not Hispanic</td><td>197499      </td><td>30.93394    </td></tr>\n",
       "\t<tr><td>Hispanic    </td><td> 72652      </td><td>11.37936    </td></tr>\n",
       "</tbody>\n",
       "</table>\n"
      ],
      "text/latex": [
       "\\begin{tabular}{r|lll}\n",
       " Victim.Ethnicity & n & percentage\\\\\n",
       "\\hline\n",
       "\t Unknown      & 368303       & 57.68669    \\\\\n",
       "\t Not Hispanic & 197499       & 30.93394    \\\\\n",
       "\t Hispanic     &  72652       & 11.37936    \\\\\n",
       "\\end{tabular}\n"
      ],
      "text/markdown": [
       "\n",
       "Victim.Ethnicity | n | percentage | \n",
       "|---|---|---|\n",
       "| Unknown      | 368303       | 57.68669     | \n",
       "| Not Hispanic | 197499       | 30.93394     | \n",
       "| Hispanic     |  72652       | 11.37936     | \n",
       "\n",
       "\n"
      ],
      "text/plain": [
       "  Victim.Ethnicity n      percentage\n",
       "1 Unknown          368303 57.68669  \n",
       "2 Not Hispanic     197499 30.93394  \n",
       "3 Hispanic          72652 11.37936  "
      ]
     },
     "metadata": {},
     "output_type": "display_data"
    }
   ],
   "source": [
    "hc.1 %>% group_by(Victim.Ethnicity) %>% count(sort=T)%>% mutate(percentage=n/nrow(hc.1)*100)"
   ]
  },
  {
   "cell_type": "markdown",
   "metadata": {},
   "source": [
    "Well, this doesn't help much; though we can see that the \"Not Hispanic\" population showcase a crime rate 2.7 times more than those are of \"Hispanic\". This could help us to reiterate our earlier hypothesis on crime rates based on Race."
   ]
  },
  {
   "cell_type": "markdown",
   "metadata": {},
   "source": [
    "Let's understand that if the number of crimes solved have any concentration over the Victim's ethnicity or not."
   ]
  },
  {
   "cell_type": "code",
   "execution_count": 15,
   "metadata": {
    "collapsed": false
   },
   "outputs": [
    {
     "data": {
      "text/plain": [
       "\n",
       "    No    Yes \n",
       "190282 448172 "
      ]
     },
     "metadata": {},
     "output_type": "display_data"
    },
    {
     "data": {
      "text/html": [
       "<table>\n",
       "<thead><tr><th scope=col>Victim.Ethnicity</th><th scope=col>Crime.Solved</th><th scope=col>n</th><th scope=col>pecentage</th></tr></thead>\n",
       "<tbody>\n",
       "\t<tr><td>Unknown     </td><td>Yes         </td><td>255032      </td><td>39.945243   </td></tr>\n",
       "\t<tr><td>Not Hispanic</td><td>Yes         </td><td>145580      </td><td>22.801956   </td></tr>\n",
       "\t<tr><td>Unknown     </td><td>No          </td><td>113271      </td><td>17.741450   </td></tr>\n",
       "\t<tr><td>Not Hispanic</td><td>No          </td><td> 51919      </td><td> 8.131988   </td></tr>\n",
       "\t<tr><td>Hispanic    </td><td>Yes         </td><td> 47560      </td><td> 7.449245   </td></tr>\n",
       "\t<tr><td>Hispanic    </td><td>No          </td><td> 25092      </td><td> 3.930119   </td></tr>\n",
       "</tbody>\n",
       "</table>\n"
      ],
      "text/latex": [
       "\\begin{tabular}{r|llll}\n",
       " Victim.Ethnicity & Crime.Solved & n & pecentage\\\\\n",
       "\\hline\n",
       "\t Unknown      & Yes          & 255032       & 39.945243   \\\\\n",
       "\t Not Hispanic & Yes          & 145580       & 22.801956   \\\\\n",
       "\t Unknown      & No           & 113271       & 17.741450   \\\\\n",
       "\t Not Hispanic & No           &  51919       &  8.131988   \\\\\n",
       "\t Hispanic     & Yes          &  47560       &  7.449245   \\\\\n",
       "\t Hispanic     & No           &  25092       &  3.930119   \\\\\n",
       "\\end{tabular}\n"
      ],
      "text/markdown": [
       "\n",
       "Victim.Ethnicity | Crime.Solved | n | pecentage | \n",
       "|---|---|---|---|---|---|\n",
       "| Unknown      | Yes          | 255032       | 39.945243    | \n",
       "| Not Hispanic | Yes          | 145580       | 22.801956    | \n",
       "| Unknown      | No           | 113271       | 17.741450    | \n",
       "| Not Hispanic | No           |  51919       |  8.131988    | \n",
       "| Hispanic     | Yes          |  47560       |  7.449245    | \n",
       "| Hispanic     | No           |  25092       |  3.930119    | \n",
       "\n",
       "\n"
      ],
      "text/plain": [
       "  Victim.Ethnicity Crime.Solved n      pecentage\n",
       "1 Unknown          Yes          255032 39.945243\n",
       "2 Not Hispanic     Yes          145580 22.801956\n",
       "3 Unknown          No           113271 17.741450\n",
       "4 Not Hispanic     No            51919  8.131988\n",
       "5 Hispanic         Yes           47560  7.449245\n",
       "6 Hispanic         No            25092  3.930119"
      ]
     },
     "metadata": {},
     "output_type": "display_data"
    }
   ],
   "source": [
    "table(hc.1$Crime.Solved)\n",
    "\n",
    "hc.1 %>% group_by(Victim.Ethnicity,Crime.Solved) %>% count(sort=T) %>% mutate(pecentage=n/nrow(hc.1)*100)"
   ]
  },
  {
   "cell_type": "markdown",
   "metadata": {},
   "source": [
    "This shows that the % of crimes solved have less concentration over the Victim's Ethnicity. We can see that out of 100 incidents, 30 are against Not Hispanic victims of which 22 are solved, leading to 77% success. In 100 incidents, 11 are recorded against Hispanic victimes and of which 7 are solved, leading to ~66% success."
   ]
  },
  {
   "cell_type": "markdown",
   "metadata": {},
   "source": [
    "Let's now try to understand the correlations over all the variables in the dataset. This will help us to decied a positive or negative relationship of one variable with other. We will alos plot these relationships over for a simple visual observation."
   ]
  },
  {
   "cell_type": "markdown",
   "metadata": {},
   "source": [
    "For any correlation formulae to work on this dataset, we need to convert the categorical variable records containing character strings into numeric. We'll do this with a **for** loop for each column."
   ]
  },
  {
   "cell_type": "code",
   "execution_count": 16,
   "metadata": {
    "collapsed": false
   },
   "outputs": [
    {
     "data": {
      "text/html": [
       "<ol>\n",
       "\t<li>'Alabama'</li>\n",
       "\t<li>'Alaska'</li>\n",
       "\t<li>'Arizona'</li>\n",
       "\t<li>'Arkansas'</li>\n",
       "\t<li>'California'</li>\n",
       "\t<li>'Colorado'</li>\n",
       "\t<li>'Connecticut'</li>\n",
       "\t<li>'Delaware'</li>\n",
       "\t<li>'District of Columbia'</li>\n",
       "\t<li>'Florida'</li>\n",
       "\t<li>'Georgia'</li>\n",
       "\t<li>'Hawaii'</li>\n",
       "\t<li>'Idaho'</li>\n",
       "\t<li>'Illinois'</li>\n",
       "\t<li>'Indiana'</li>\n",
       "\t<li>'Iowa'</li>\n",
       "\t<li>'Kansas'</li>\n",
       "\t<li>'Kentucky'</li>\n",
       "\t<li>'Louisiana'</li>\n",
       "\t<li>'Maine'</li>\n",
       "\t<li>'Maryland'</li>\n",
       "\t<li>'Massachusetts'</li>\n",
       "\t<li>'Michigan'</li>\n",
       "\t<li>'Minnesota'</li>\n",
       "\t<li>'Mississippi'</li>\n",
       "\t<li>'Missouri'</li>\n",
       "\t<li>'Montana'</li>\n",
       "\t<li>'Nebraska'</li>\n",
       "\t<li>'Nevada'</li>\n",
       "\t<li>'New Hampshire'</li>\n",
       "\t<li>'New Jersey'</li>\n",
       "\t<li>'New Mexico'</li>\n",
       "\t<li>'New York'</li>\n",
       "\t<li>'North Carolina'</li>\n",
       "\t<li>'North Dakota'</li>\n",
       "\t<li>'Ohio'</li>\n",
       "\t<li>'Oklahoma'</li>\n",
       "\t<li>'Oregon'</li>\n",
       "\t<li>'Pennsylvania'</li>\n",
       "\t<li>'Rhodes Island'</li>\n",
       "\t<li>'South Carolina'</li>\n",
       "\t<li>'South Dakota'</li>\n",
       "\t<li>'Tennessee'</li>\n",
       "\t<li>'Texas'</li>\n",
       "\t<li>'Utah'</li>\n",
       "\t<li>'Vermont'</li>\n",
       "\t<li>'Virginia'</li>\n",
       "\t<li>'Washington'</li>\n",
       "\t<li>'West Virginia'</li>\n",
       "\t<li>'Wisconsin'</li>\n",
       "\t<li>'Wyoming'</li>\n",
       "</ol>\n"
      ],
      "text/latex": [
       "\\begin{enumerate}\n",
       "\\item 'Alabama'\n",
       "\\item 'Alaska'\n",
       "\\item 'Arizona'\n",
       "\\item 'Arkansas'\n",
       "\\item 'California'\n",
       "\\item 'Colorado'\n",
       "\\item 'Connecticut'\n",
       "\\item 'Delaware'\n",
       "\\item 'District of Columbia'\n",
       "\\item 'Florida'\n",
       "\\item 'Georgia'\n",
       "\\item 'Hawaii'\n",
       "\\item 'Idaho'\n",
       "\\item 'Illinois'\n",
       "\\item 'Indiana'\n",
       "\\item 'Iowa'\n",
       "\\item 'Kansas'\n",
       "\\item 'Kentucky'\n",
       "\\item 'Louisiana'\n",
       "\\item 'Maine'\n",
       "\\item 'Maryland'\n",
       "\\item 'Massachusetts'\n",
       "\\item 'Michigan'\n",
       "\\item 'Minnesota'\n",
       "\\item 'Mississippi'\n",
       "\\item 'Missouri'\n",
       "\\item 'Montana'\n",
       "\\item 'Nebraska'\n",
       "\\item 'Nevada'\n",
       "\\item 'New Hampshire'\n",
       "\\item 'New Jersey'\n",
       "\\item 'New Mexico'\n",
       "\\item 'New York'\n",
       "\\item 'North Carolina'\n",
       "\\item 'North Dakota'\n",
       "\\item 'Ohio'\n",
       "\\item 'Oklahoma'\n",
       "\\item 'Oregon'\n",
       "\\item 'Pennsylvania'\n",
       "\\item 'Rhodes Island'\n",
       "\\item 'South Carolina'\n",
       "\\item 'South Dakota'\n",
       "\\item 'Tennessee'\n",
       "\\item 'Texas'\n",
       "\\item 'Utah'\n",
       "\\item 'Vermont'\n",
       "\\item 'Virginia'\n",
       "\\item 'Washington'\n",
       "\\item 'West Virginia'\n",
       "\\item 'Wisconsin'\n",
       "\\item 'Wyoming'\n",
       "\\end{enumerate}\n"
      ],
      "text/markdown": [
       "1. 'Alabama'\n",
       "2. 'Alaska'\n",
       "3. 'Arizona'\n",
       "4. 'Arkansas'\n",
       "5. 'California'\n",
       "6. 'Colorado'\n",
       "7. 'Connecticut'\n",
       "8. 'Delaware'\n",
       "9. 'District of Columbia'\n",
       "10. 'Florida'\n",
       "11. 'Georgia'\n",
       "12. 'Hawaii'\n",
       "13. 'Idaho'\n",
       "14. 'Illinois'\n",
       "15. 'Indiana'\n",
       "16. 'Iowa'\n",
       "17. 'Kansas'\n",
       "18. 'Kentucky'\n",
       "19. 'Louisiana'\n",
       "20. 'Maine'\n",
       "21. 'Maryland'\n",
       "22. 'Massachusetts'\n",
       "23. 'Michigan'\n",
       "24. 'Minnesota'\n",
       "25. 'Mississippi'\n",
       "26. 'Missouri'\n",
       "27. 'Montana'\n",
       "28. 'Nebraska'\n",
       "29. 'Nevada'\n",
       "30. 'New Hampshire'\n",
       "31. 'New Jersey'\n",
       "32. 'New Mexico'\n",
       "33. 'New York'\n",
       "34. 'North Carolina'\n",
       "35. 'North Dakota'\n",
       "36. 'Ohio'\n",
       "37. 'Oklahoma'\n",
       "38. 'Oregon'\n",
       "39. 'Pennsylvania'\n",
       "40. 'Rhodes Island'\n",
       "41. 'South Carolina'\n",
       "42. 'South Dakota'\n",
       "43. 'Tennessee'\n",
       "44. 'Texas'\n",
       "45. 'Utah'\n",
       "46. 'Vermont'\n",
       "47. 'Virginia'\n",
       "48. 'Washington'\n",
       "49. 'West Virginia'\n",
       "50. 'Wisconsin'\n",
       "51. 'Wyoming'\n",
       "\n",
       "\n"
      ],
      "text/plain": [
       "[[1]]\n",
       "[1] \"Alabama\"\n",
       "\n",
       "[[2]]\n",
       "[1] \"Alaska\"\n",
       "\n",
       "[[3]]\n",
       "[1] \"Arizona\"\n",
       "\n",
       "[[4]]\n",
       "[1] \"Arkansas\"\n",
       "\n",
       "[[5]]\n",
       "[1] \"California\"\n",
       "\n",
       "[[6]]\n",
       "[1] \"Colorado\"\n",
       "\n",
       "[[7]]\n",
       "[1] \"Connecticut\"\n",
       "\n",
       "[[8]]\n",
       "[1] \"Delaware\"\n",
       "\n",
       "[[9]]\n",
       "[1] \"District of Columbia\"\n",
       "\n",
       "[[10]]\n",
       "[1] \"Florida\"\n",
       "\n",
       "[[11]]\n",
       "[1] \"Georgia\"\n",
       "\n",
       "[[12]]\n",
       "[1] \"Hawaii\"\n",
       "\n",
       "[[13]]\n",
       "[1] \"Idaho\"\n",
       "\n",
       "[[14]]\n",
       "[1] \"Illinois\"\n",
       "\n",
       "[[15]]\n",
       "[1] \"Indiana\"\n",
       "\n",
       "[[16]]\n",
       "[1] \"Iowa\"\n",
       "\n",
       "[[17]]\n",
       "[1] \"Kansas\"\n",
       "\n",
       "[[18]]\n",
       "[1] \"Kentucky\"\n",
       "\n",
       "[[19]]\n",
       "[1] \"Louisiana\"\n",
       "\n",
       "[[20]]\n",
       "[1] \"Maine\"\n",
       "\n",
       "[[21]]\n",
       "[1] \"Maryland\"\n",
       "\n",
       "[[22]]\n",
       "[1] \"Massachusetts\"\n",
       "\n",
       "[[23]]\n",
       "[1] \"Michigan\"\n",
       "\n",
       "[[24]]\n",
       "[1] \"Minnesota\"\n",
       "\n",
       "[[25]]\n",
       "[1] \"Mississippi\"\n",
       "\n",
       "[[26]]\n",
       "[1] \"Missouri\"\n",
       "\n",
       "[[27]]\n",
       "[1] \"Montana\"\n",
       "\n",
       "[[28]]\n",
       "[1] \"Nebraska\"\n",
       "\n",
       "[[29]]\n",
       "[1] \"Nevada\"\n",
       "\n",
       "[[30]]\n",
       "[1] \"New Hampshire\"\n",
       "\n",
       "[[31]]\n",
       "[1] \"New Jersey\"\n",
       "\n",
       "[[32]]\n",
       "[1] \"New Mexico\"\n",
       "\n",
       "[[33]]\n",
       "[1] \"New York\"\n",
       "\n",
       "[[34]]\n",
       "[1] \"North Carolina\"\n",
       "\n",
       "[[35]]\n",
       "[1] \"North Dakota\"\n",
       "\n",
       "[[36]]\n",
       "[1] \"Ohio\"\n",
       "\n",
       "[[37]]\n",
       "[1] \"Oklahoma\"\n",
       "\n",
       "[[38]]\n",
       "[1] \"Oregon\"\n",
       "\n",
       "[[39]]\n",
       "[1] \"Pennsylvania\"\n",
       "\n",
       "[[40]]\n",
       "[1] \"Rhodes Island\"\n",
       "\n",
       "[[41]]\n",
       "[1] \"South Carolina\"\n",
       "\n",
       "[[42]]\n",
       "[1] \"South Dakota\"\n",
       "\n",
       "[[43]]\n",
       "[1] \"Tennessee\"\n",
       "\n",
       "[[44]]\n",
       "[1] \"Texas\"\n",
       "\n",
       "[[45]]\n",
       "[1] \"Utah\"\n",
       "\n",
       "[[46]]\n",
       "[1] \"Vermont\"\n",
       "\n",
       "[[47]]\n",
       "[1] \"Virginia\"\n",
       "\n",
       "[[48]]\n",
       "[1] \"Washington\"\n",
       "\n",
       "[[49]]\n",
       "[1] \"West Virginia\"\n",
       "\n",
       "[[50]]\n",
       "[1] \"Wisconsin\"\n",
       "\n",
       "[[51]]\n",
       "[1] \"Wyoming\"\n"
      ]
     },
     "metadata": {},
     "output_type": "display_data"
    }
   ],
   "source": [
    "as.list(levels(hc.1$State))"
   ]
  },
  {
   "cell_type": "markdown",
   "metadata": {},
   "source": [
    "There are 51 names (unique record) in the variable State. We can convert each of them into a number."
   ]
  },
  {
   "cell_type": "code",
   "execution_count": 17,
   "metadata": {
    "collapsed": true
   },
   "outputs": [],
   "source": [
    "for (i in 1:51) {\n",
    "  levels(hc.1$State)[i] <- i\n",
    "}"
   ]
  },
  {
   "cell_type": "code",
   "execution_count": 18,
   "metadata": {
    "collapsed": false
   },
   "outputs": [
    {
     "data": {
      "text/html": [
       "<table>\n",
       "<thead><tr><th scope=col>State</th><th scope=col>Year</th><th scope=col>Month</th><th scope=col>Incident</th><th scope=col>Crime.Type</th><th scope=col>Crime.Solved</th><th scope=col>Victim.Sex</th><th scope=col>Victim.Age</th><th scope=col>Victim.Race</th><th scope=col>Victim.Ethnicity</th><th scope=col>Perpetrator.Sex</th><th scope=col>Perpetrator.Age</th><th scope=col>Perpetrator.Race</th><th scope=col>Perpetrator.Ethnicity</th><th scope=col>Relationship</th><th scope=col>Weapon</th><th scope=col>Victim.Count</th><th scope=col>Perpetrator.Count</th><th scope=col>Record.Source</th></tr></thead>\n",
       "<tbody>\n",
       "\t<tr><td>2                            </td><td>1980                         </td><td>January                      </td><td>1                            </td><td>Murder or Manslaughter       </td><td>Yes                          </td><td>Male                         </td><td>14                           </td><td>Native American/Alaska Native</td><td>Unknown                      </td><td>Male                         </td><td>15                           </td><td>Native American/Alaska Native</td><td>Unknown                      </td><td>Acquaintance                 </td><td>Blunt Object                 </td><td>0                            </td><td>0                            </td><td>FBI                          </td></tr>\n",
       "\t<tr><td>2                            </td><td>1980                         </td><td>March                        </td><td>1                            </td><td>Murder or Manslaughter       </td><td>Yes                          </td><td>Male                         </td><td>43                           </td><td>White                        </td><td>Unknown                      </td><td>Male                         </td><td>42                           </td><td>White                        </td><td>Unknown                      </td><td>Acquaintance                 </td><td>Strangulation                </td><td>0                            </td><td>0                            </td><td>FBI                          </td></tr>\n",
       "\t<tr><td>2                            </td><td>1980                         </td><td>March                        </td><td>2                            </td><td>Murder or Manslaughter       </td><td>No                           </td><td>Female                       </td><td>30                           </td><td>Native American/Alaska Native</td><td>Unknown                      </td><td>Unknown                      </td><td> 0                           </td><td>Unknown                      </td><td>Unknown                      </td><td>Unknown                      </td><td>Unknown                      </td><td>0                            </td><td>0                            </td><td>FBI                          </td></tr>\n",
       "</tbody>\n",
       "</table>\n"
      ],
      "text/latex": [
       "\\begin{tabular}{r|lllllllllllllllllll}\n",
       " State & Year & Month & Incident & Crime.Type & Crime.Solved & Victim.Sex & Victim.Age & Victim.Race & Victim.Ethnicity & Perpetrator.Sex & Perpetrator.Age & Perpetrator.Race & Perpetrator.Ethnicity & Relationship & Weapon & Victim.Count & Perpetrator.Count & Record.Source\\\\\n",
       "\\hline\n",
       "\t 2                             & 1980                          & January                       & 1                             & Murder or Manslaughter        & Yes                           & Male                          & 14                            & Native American/Alaska Native & Unknown                       & Male                          & 15                            & Native American/Alaska Native & Unknown                       & Acquaintance                  & Blunt Object                  & 0                             & 0                             & FBI                          \\\\\n",
       "\t 2                             & 1980                          & March                         & 1                             & Murder or Manslaughter        & Yes                           & Male                          & 43                            & White                         & Unknown                       & Male                          & 42                            & White                         & Unknown                       & Acquaintance                  & Strangulation                 & 0                             & 0                             & FBI                          \\\\\n",
       "\t 2                             & 1980                          & March                         & 2                             & Murder or Manslaughter        & No                            & Female                        & 30                            & Native American/Alaska Native & Unknown                       & Unknown                       &  0                            & Unknown                       & Unknown                       & Unknown                       & Unknown                       & 0                             & 0                             & FBI                          \\\\\n",
       "\\end{tabular}\n"
      ],
      "text/markdown": [
       "\n",
       "State | Year | Month | Incident | Crime.Type | Crime.Solved | Victim.Sex | Victim.Age | Victim.Race | Victim.Ethnicity | Perpetrator.Sex | Perpetrator.Age | Perpetrator.Race | Perpetrator.Ethnicity | Relationship | Weapon | Victim.Count | Perpetrator.Count | Record.Source | \n",
       "|---|---|---|\n",
       "| 2                             | 1980                          | January                       | 1                             | Murder or Manslaughter        | Yes                           | Male                          | 14                            | Native American/Alaska Native | Unknown                       | Male                          | 15                            | Native American/Alaska Native | Unknown                       | Acquaintance                  | Blunt Object                  | 0                             | 0                             | FBI                           | \n",
       "| 2                             | 1980                          | March                         | 1                             | Murder or Manslaughter        | Yes                           | Male                          | 43                            | White                         | Unknown                       | Male                          | 42                            | White                         | Unknown                       | Acquaintance                  | Strangulation                 | 0                             | 0                             | FBI                           | \n",
       "| 2                             | 1980                          | March                         | 2                             | Murder or Manslaughter        | No                            | Female                        | 30                            | Native American/Alaska Native | Unknown                       | Unknown                       |  0                            | Unknown                       | Unknown                       | Unknown                       | Unknown                       | 0                             | 0                             | FBI                           | \n",
       "\n",
       "\n"
      ],
      "text/plain": [
       "  State Year Month   Incident Crime.Type             Crime.Solved Victim.Sex\n",
       "1 2     1980 January 1        Murder or Manslaughter Yes          Male      \n",
       "2 2     1980 March   1        Murder or Manslaughter Yes          Male      \n",
       "3 2     1980 March   2        Murder or Manslaughter No           Female    \n",
       "  Victim.Age Victim.Race                   Victim.Ethnicity Perpetrator.Sex\n",
       "1 14         Native American/Alaska Native Unknown          Male           \n",
       "2 43         White                         Unknown          Male           \n",
       "3 30         Native American/Alaska Native Unknown          Unknown        \n",
       "  Perpetrator.Age Perpetrator.Race              Perpetrator.Ethnicity\n",
       "1 15              Native American/Alaska Native Unknown              \n",
       "2 42              White                         Unknown              \n",
       "3  0              Unknown                       Unknown              \n",
       "  Relationship Weapon        Victim.Count Perpetrator.Count Record.Source\n",
       "1 Acquaintance Blunt Object  0            0                 FBI          \n",
       "2 Acquaintance Strangulation 0            0                 FBI          \n",
       "3 Unknown      Unknown       0            0                 FBI          "
      ]
     },
     "metadata": {},
     "output_type": "display_data"
    }
   ],
   "source": [
    "head(hc.1, n=3)"
   ]
  },
  {
   "cell_type": "markdown",
   "metadata": {},
   "source": [
    "The **for** loop finds each character record of all the unique 51 records and replaces it will a unique number. Using **head** command we can check if the loop has done the work as we expected or not."
   ]
  },
  {
   "cell_type": "markdown",
   "metadata": {},
   "source": [
    "Let's now repeat the same prcoess for Month variable. First we'll rearrange the dataset based on months. We know that, the year starts with Jan. Let's convert the variable month according to this need."
   ]
  },
  {
   "cell_type": "code",
   "execution_count": 19,
   "metadata": {
    "collapsed": true
   },
   "outputs": [],
   "source": [
    "cm<-c(\"January\",\"February\",\"March\",\"April\",\n",
    "      \"May\",\"June\",\"July\",\"August\",\"September\",\n",
    "      \"October\",\"November\",\"December\")"
   ]
  },
  {
   "cell_type": "code",
   "execution_count": 20,
   "metadata": {
    "collapsed": false
   },
   "outputs": [
    {
     "data": {
      "text/html": [
       "<table>\n",
       "<thead><tr><th scope=col>State</th><th scope=col>Year</th><th scope=col>Month</th><th scope=col>Incident</th><th scope=col>Crime.Type</th><th scope=col>Crime.Solved</th><th scope=col>Victim.Sex</th><th scope=col>Victim.Age</th><th scope=col>Victim.Race</th><th scope=col>Victim.Ethnicity</th><th scope=col>Perpetrator.Sex</th><th scope=col>Perpetrator.Age</th><th scope=col>Perpetrator.Race</th><th scope=col>Perpetrator.Ethnicity</th><th scope=col>Relationship</th><th scope=col>Weapon</th><th scope=col>Victim.Count</th><th scope=col>Perpetrator.Count</th><th scope=col>Record.Source</th></tr></thead>\n",
       "<tbody>\n",
       "\t<tr><td>2                            </td><td>1980                         </td><td>1                            </td><td>1                            </td><td>Murder or Manslaughter       </td><td>Yes                          </td><td>Male                         </td><td>14                           </td><td>Native American/Alaska Native</td><td>Unknown                      </td><td>Male                         </td><td>15                           </td><td>Native American/Alaska Native</td><td>Unknown                      </td><td>Acquaintance                 </td><td>Blunt Object                 </td><td>0                            </td><td>0                            </td><td>FBI                          </td></tr>\n",
       "\t<tr><td>2                            </td><td>1980                         </td><td>3                            </td><td>1                            </td><td>Murder or Manslaughter       </td><td>Yes                          </td><td>Male                         </td><td>43                           </td><td>White                        </td><td>Unknown                      </td><td>Male                         </td><td>42                           </td><td>White                        </td><td>Unknown                      </td><td>Acquaintance                 </td><td>Strangulation                </td><td>0                            </td><td>0                            </td><td>FBI                          </td></tr>\n",
       "\t<tr><td>2                            </td><td>1980                         </td><td>3                            </td><td>2                            </td><td>Murder or Manslaughter       </td><td>No                           </td><td>Female                       </td><td>30                           </td><td>Native American/Alaska Native</td><td>Unknown                      </td><td>Unknown                      </td><td> 0                           </td><td>Unknown                      </td><td>Unknown                      </td><td>Unknown                      </td><td>Unknown                      </td><td>0                            </td><td>0                            </td><td>FBI                          </td></tr>\n",
       "</tbody>\n",
       "</table>\n"
      ],
      "text/latex": [
       "\\begin{tabular}{r|lllllllllllllllllll}\n",
       " State & Year & Month & Incident & Crime.Type & Crime.Solved & Victim.Sex & Victim.Age & Victim.Race & Victim.Ethnicity & Perpetrator.Sex & Perpetrator.Age & Perpetrator.Race & Perpetrator.Ethnicity & Relationship & Weapon & Victim.Count & Perpetrator.Count & Record.Source\\\\\n",
       "\\hline\n",
       "\t 2                             & 1980                          & 1                             & 1                             & Murder or Manslaughter        & Yes                           & Male                          & 14                            & Native American/Alaska Native & Unknown                       & Male                          & 15                            & Native American/Alaska Native & Unknown                       & Acquaintance                  & Blunt Object                  & 0                             & 0                             & FBI                          \\\\\n",
       "\t 2                             & 1980                          & 3                             & 1                             & Murder or Manslaughter        & Yes                           & Male                          & 43                            & White                         & Unknown                       & Male                          & 42                            & White                         & Unknown                       & Acquaintance                  & Strangulation                 & 0                             & 0                             & FBI                          \\\\\n",
       "\t 2                             & 1980                          & 3                             & 2                             & Murder or Manslaughter        & No                            & Female                        & 30                            & Native American/Alaska Native & Unknown                       & Unknown                       &  0                            & Unknown                       & Unknown                       & Unknown                       & Unknown                       & 0                             & 0                             & FBI                          \\\\\n",
       "\\end{tabular}\n"
      ],
      "text/markdown": [
       "\n",
       "State | Year | Month | Incident | Crime.Type | Crime.Solved | Victim.Sex | Victim.Age | Victim.Race | Victim.Ethnicity | Perpetrator.Sex | Perpetrator.Age | Perpetrator.Race | Perpetrator.Ethnicity | Relationship | Weapon | Victim.Count | Perpetrator.Count | Record.Source | \n",
       "|---|---|---|\n",
       "| 2                             | 1980                          | 1                             | 1                             | Murder or Manslaughter        | Yes                           | Male                          | 14                            | Native American/Alaska Native | Unknown                       | Male                          | 15                            | Native American/Alaska Native | Unknown                       | Acquaintance                  | Blunt Object                  | 0                             | 0                             | FBI                           | \n",
       "| 2                             | 1980                          | 3                             | 1                             | Murder or Manslaughter        | Yes                           | Male                          | 43                            | White                         | Unknown                       | Male                          | 42                            | White                         | Unknown                       | Acquaintance                  | Strangulation                 | 0                             | 0                             | FBI                           | \n",
       "| 2                             | 1980                          | 3                             | 2                             | Murder or Manslaughter        | No                            | Female                        | 30                            | Native American/Alaska Native | Unknown                       | Unknown                       |  0                            | Unknown                       | Unknown                       | Unknown                       | Unknown                       | 0                             | 0                             | FBI                           | \n",
       "\n",
       "\n"
      ],
      "text/plain": [
       "  State Year Month Incident Crime.Type             Crime.Solved Victim.Sex\n",
       "1 2     1980 1     1        Murder or Manslaughter Yes          Male      \n",
       "2 2     1980 3     1        Murder or Manslaughter Yes          Male      \n",
       "3 2     1980 3     2        Murder or Manslaughter No           Female    \n",
       "  Victim.Age Victim.Race                   Victim.Ethnicity Perpetrator.Sex\n",
       "1 14         Native American/Alaska Native Unknown          Male           \n",
       "2 43         White                         Unknown          Male           \n",
       "3 30         Native American/Alaska Native Unknown          Unknown        \n",
       "  Perpetrator.Age Perpetrator.Race              Perpetrator.Ethnicity\n",
       "1 15              Native American/Alaska Native Unknown              \n",
       "2 42              White                         Unknown              \n",
       "3  0              Unknown                       Unknown              \n",
       "  Relationship Weapon        Victim.Count Perpetrator.Count Record.Source\n",
       "1 Acquaintance Blunt Object  0            0                 FBI          \n",
       "2 Acquaintance Strangulation 0            0                 FBI          \n",
       "3 Unknown      Unknown       0            0                 FBI          "
      ]
     },
     "metadata": {},
     "output_type": "display_data"
    }
   ],
   "source": [
    "hc.1$Month<-factor(hc.1$Month,levels=cm)\n",
    "\n",
    "for (i in 1:12) {\n",
    "  levels(hc.1$Month)[i] <- i\n",
    "}\n",
    "\n",
    "head(hc.1, n=3)"
   ]
  },
  {
   "cell_type": "markdown",
   "metadata": {},
   "source": [
    "We can see that the loop has worked well and converted Jan to \"1\" and March to \"3\""
   ]
  },
  {
   "cell_type": "markdown",
   "metadata": {},
   "source": [
    "We'll repeat the same process for Crime.Type, Crime.Solved & Victim.Sex"
   ]
  },
  {
   "cell_type": "code",
   "execution_count": 21,
   "metadata": {
    "collapsed": true
   },
   "outputs": [],
   "source": [
    "for (i in 1:2) {\n",
    "  levels(hc.1$Crime.Type)[i] <- i\n",
    "}\n",
    "\n",
    "\n",
    "for (i in 1:2) {\n",
    "  levels(hc.1$Crime.Solved)[i] <- i\n",
    "}\n",
    "\n",
    "\n",
    "for (i in 1:3) {\n",
    "  levels(hc.1$Victim.Sex)[i] <- i\n",
    "}"
   ]
  },
  {
   "cell_type": "markdown",
   "metadata": {},
   "source": [
    "We'll continue the same process Race, Ethnicity, Perpetrator Sex,Race & Ethnicity"
   ]
  },
  {
   "cell_type": "code",
   "execution_count": 22,
   "metadata": {
    "collapsed": false
   },
   "outputs": [],
   "source": [
    "for (i in 1:5) {\n",
    "  levels(hc.1$Victim.Race)[i] <- i\n",
    "}\n",
    "\n",
    "\n",
    "for (i in 1:3) {\n",
    "  levels(hc.1$Victim.Ethnicity)[i] <- i\n",
    "}\n",
    "\n",
    "\n",
    "for (i in 1:3) {\n",
    "  levels(hc.1$Perpetrator.Sex)[i] <- i\n",
    "}\n",
    "\n",
    "\n",
    "for (i in 1:5) {\n",
    "  levels(hc.1$Perpetrator.Race)[i] <- i\n",
    "}\n",
    "\n",
    "\n",
    "for (i in 1:3) {\n",
    "  levels(hc.1$Perpetrator.Ethnicity)[i] <- i\n",
    "}"
   ]
  },
  {
   "cell_type": "markdown",
   "metadata": {},
   "source": [
    "We have converted all of the above variables to numeric. For each variable the range for the conversion has been defined based on how many unique levels that particular variable has; e.g. Perpetrator Race has 5 levels where as Perpetrator Ethinicity has only 3"
   ]
  },
  {
   "cell_type": "markdown",
   "metadata": {},
   "source": [
    "We'll now code the final two variables; Relationship and Weapon with this process."
   ]
  },
  {
   "cell_type": "code",
   "execution_count": 23,
   "metadata": {
    "collapsed": true
   },
   "outputs": [],
   "source": [
    "for (i in 1:28) {\n",
    "  levels(hc.1$Relationship)[i] <- i\n",
    "}\n",
    "\n",
    "\n",
    "for (i in 1:16) {\n",
    "  levels(hc.1$Weapon)[i] <- i\n",
    "}"
   ]
  },
  {
   "cell_type": "markdown",
   "metadata": {},
   "source": [
    "Let's find out how our dataset has been changed"
   ]
  },
  {
   "cell_type": "code",
   "execution_count": 24,
   "metadata": {
    "collapsed": false
   },
   "outputs": [
    {
     "data": {
      "text/html": [
       "<table>\n",
       "<thead><tr><th scope=col>State</th><th scope=col>Year</th><th scope=col>Month</th><th scope=col>Incident</th><th scope=col>Crime.Type</th><th scope=col>Crime.Solved</th><th scope=col>Victim.Sex</th><th scope=col>Victim.Age</th><th scope=col>Victim.Race</th><th scope=col>Victim.Ethnicity</th><th scope=col>Perpetrator.Sex</th><th scope=col>Perpetrator.Age</th><th scope=col>Perpetrator.Race</th><th scope=col>Perpetrator.Ethnicity</th><th scope=col>Relationship</th><th scope=col>Weapon</th><th scope=col>Victim.Count</th><th scope=col>Perpetrator.Count</th><th scope=col>Record.Source</th></tr></thead>\n",
       "<tbody>\n",
       "\t<tr><td>2   </td><td>1980</td><td>1   </td><td>1   </td><td>2   </td><td>2   </td><td>2   </td><td>14  </td><td>3   </td><td>3   </td><td>2   </td><td>15  </td><td>3   </td><td>3   </td><td>1   </td><td>1   </td><td>0   </td><td>0   </td><td>FBI </td></tr>\n",
       "\t<tr><td>2   </td><td>1980</td><td>3   </td><td>1   </td><td>2   </td><td>2   </td><td>2   </td><td>43  </td><td>5   </td><td>3   </td><td>2   </td><td>42  </td><td>5   </td><td>3   </td><td>1   </td><td>14  </td><td>0   </td><td>0   </td><td>FBI </td></tr>\n",
       "\t<tr><td>2   </td><td>1980</td><td>3   </td><td>2   </td><td>2   </td><td>1   </td><td>1   </td><td>30  </td><td>3   </td><td>3   </td><td>3   </td><td> 0  </td><td>4   </td><td>3   </td><td>27  </td><td>16  </td><td>0   </td><td>0   </td><td>FBI </td></tr>\n",
       "\t<tr><td>2   </td><td>1980</td><td>4   </td><td>1   </td><td>2   </td><td>2   </td><td>2   </td><td>43  </td><td>5   </td><td>3   </td><td>2   </td><td>42  </td><td>5   </td><td>3   </td><td>1   </td><td>14  </td><td>0   </td><td>0   </td><td>FBI </td></tr>\n",
       "\t<tr><td>2   </td><td>1980</td><td>4   </td><td>2   </td><td>2   </td><td>1   </td><td>1   </td><td>30  </td><td>3   </td><td>3   </td><td>3   </td><td> 0  </td><td>4   </td><td>3   </td><td>27  </td><td>16  </td><td>0   </td><td>1   </td><td>FBI </td></tr>\n",
       "</tbody>\n",
       "</table>\n"
      ],
      "text/latex": [
       "\\begin{tabular}{r|lllllllllllllllllll}\n",
       " State & Year & Month & Incident & Crime.Type & Crime.Solved & Victim.Sex & Victim.Age & Victim.Race & Victim.Ethnicity & Perpetrator.Sex & Perpetrator.Age & Perpetrator.Race & Perpetrator.Ethnicity & Relationship & Weapon & Victim.Count & Perpetrator.Count & Record.Source\\\\\n",
       "\\hline\n",
       "\t 2    & 1980 & 1    & 1    & 2    & 2    & 2    & 14   & 3    & 3    & 2    & 15   & 3    & 3    & 1    & 1    & 0    & 0    & FBI \\\\\n",
       "\t 2    & 1980 & 3    & 1    & 2    & 2    & 2    & 43   & 5    & 3    & 2    & 42   & 5    & 3    & 1    & 14   & 0    & 0    & FBI \\\\\n",
       "\t 2    & 1980 & 3    & 2    & 2    & 1    & 1    & 30   & 3    & 3    & 3    &  0   & 4    & 3    & 27   & 16   & 0    & 0    & FBI \\\\\n",
       "\t 2    & 1980 & 4    & 1    & 2    & 2    & 2    & 43   & 5    & 3    & 2    & 42   & 5    & 3    & 1    & 14   & 0    & 0    & FBI \\\\\n",
       "\t 2    & 1980 & 4    & 2    & 2    & 1    & 1    & 30   & 3    & 3    & 3    &  0   & 4    & 3    & 27   & 16   & 0    & 1    & FBI \\\\\n",
       "\\end{tabular}\n"
      ],
      "text/markdown": [
       "\n",
       "State | Year | Month | Incident | Crime.Type | Crime.Solved | Victim.Sex | Victim.Age | Victim.Race | Victim.Ethnicity | Perpetrator.Sex | Perpetrator.Age | Perpetrator.Race | Perpetrator.Ethnicity | Relationship | Weapon | Victim.Count | Perpetrator.Count | Record.Source | \n",
       "|---|---|---|---|---|\n",
       "| 2    | 1980 | 1    | 1    | 2    | 2    | 2    | 14   | 3    | 3    | 2    | 15   | 3    | 3    | 1    | 1    | 0    | 0    | FBI  | \n",
       "| 2    | 1980 | 3    | 1    | 2    | 2    | 2    | 43   | 5    | 3    | 2    | 42   | 5    | 3    | 1    | 14   | 0    | 0    | FBI  | \n",
       "| 2    | 1980 | 3    | 2    | 2    | 1    | 1    | 30   | 3    | 3    | 3    |  0   | 4    | 3    | 27   | 16   | 0    | 0    | FBI  | \n",
       "| 2    | 1980 | 4    | 1    | 2    | 2    | 2    | 43   | 5    | 3    | 2    | 42   | 5    | 3    | 1    | 14   | 0    | 0    | FBI  | \n",
       "| 2    | 1980 | 4    | 2    | 2    | 1    | 1    | 30   | 3    | 3    | 3    |  0   | 4    | 3    | 27   | 16   | 0    | 1    | FBI  | \n",
       "\n",
       "\n"
      ],
      "text/plain": [
       "  State Year Month Incident Crime.Type Crime.Solved Victim.Sex Victim.Age\n",
       "1 2     1980 1     1        2          2            2          14        \n",
       "2 2     1980 3     1        2          2            2          43        \n",
       "3 2     1980 3     2        2          1            1          30        \n",
       "4 2     1980 4     1        2          2            2          43        \n",
       "5 2     1980 4     2        2          1            1          30        \n",
       "  Victim.Race Victim.Ethnicity Perpetrator.Sex Perpetrator.Age Perpetrator.Race\n",
       "1 3           3                2               15              3               \n",
       "2 5           3                2               42              5               \n",
       "3 3           3                3                0              4               \n",
       "4 5           3                2               42              5               \n",
       "5 3           3                3                0              4               \n",
       "  Perpetrator.Ethnicity Relationship Weapon Victim.Count Perpetrator.Count\n",
       "1 3                     1            1      0            0                \n",
       "2 3                     1            14     0            0                \n",
       "3 3                     27           16     0            0                \n",
       "4 3                     1            14     0            0                \n",
       "5 3                     27           16     0            1                \n",
       "  Record.Source\n",
       "1 FBI          \n",
       "2 FBI          \n",
       "3 FBI          \n",
       "4 FBI          \n",
       "5 FBI          "
      ]
     },
     "metadata": {},
     "output_type": "display_data"
    }
   ],
   "source": [
    "head(hc.1, n=5)"
   ]
  },
  {
   "cell_type": "markdown",
   "metadata": {
    "collapsed": true
   },
   "source": [
    "This is the point from where the correlation analysis begins. The dataset is not changed to a numeric format yet. We will have to change it from the **data.frame** to **numeric**."
   ]
  },
  {
   "cell_type": "code",
   "execution_count": 25,
   "metadata": {
    "collapsed": false
   },
   "outputs": [],
   "source": [
    "hc.2<-sapply(hc.1,as.numeric)"
   ]
  },
  {
   "cell_type": "markdown",
   "metadata": {},
   "source": [
    "This formulae will convert each of the column and row to a **numeric matrix**. Earlier conversions may have coerce **na**, to be on safer side, it is easy to omit **na** with following function."
   ]
  },
  {
   "cell_type": "code",
   "execution_count": 26,
   "metadata": {
    "collapsed": false
   },
   "outputs": [],
   "source": [
    "hc.2<-na.omit(hc.2)"
   ]
  },
  {
   "cell_type": "markdown",
   "metadata": {},
   "source": [
    "Finally, we have our dataset ready into a **matrix** format. We can now run the correlation analysis for each variable against each of the other."
   ]
  },
  {
   "cell_type": "code",
   "execution_count": 27,
   "metadata": {
    "collapsed": false
   },
   "outputs": [],
   "source": [
    "hc.3<-round(cor(hc.2,hc.2),digits=2)"
   ]
  },
  {
   "cell_type": "code",
   "execution_count": 28,
   "metadata": {
    "collapsed": false
   },
   "outputs": [
    {
     "data": {
      "text/html": [
       "<table>\n",
       "<thead><tr><th></th><th scope=col>State</th><th scope=col>Year</th><th scope=col>Month</th><th scope=col>Incident</th><th scope=col>Crime.Type</th><th scope=col>Crime.Solved</th><th scope=col>Victim.Sex</th><th scope=col>Victim.Age</th><th scope=col>Victim.Race</th><th scope=col>Victim.Ethnicity</th><th scope=col>Perpetrator.Sex</th><th scope=col>Perpetrator.Age</th><th scope=col>Perpetrator.Race</th><th scope=col>Perpetrator.Ethnicity</th><th scope=col>Relationship</th><th scope=col>Weapon</th><th scope=col>Victim.Count</th><th scope=col>Perpetrator.Count</th></tr></thead>\n",
       "<tbody>\n",
       "\t<tr><th scope=row>State</th><td> 1.00</td><td>-0.01</td><td> 0.00</td><td>-0.11</td><td> 0.00</td><td> 0.08</td><td>-0.03</td><td> 0.01</td><td>-0.01</td><td> 0.12</td><td>-0.08</td><td> 0.06</td><td>-0.03</td><td> 0.04</td><td>-0.11</td><td> 0.00</td><td> 0.02</td><td> 0.03</td></tr>\n",
       "\t<tr><th scope=row>Year</th><td>-0.01</td><td> 1.00</td><td> 0.01</td><td> 0.12</td><td>-0.01</td><td>-0.03</td><td> 0.02</td><td> 0.01</td><td>-0.04</td><td> 0.13</td><td> 0.04</td><td>-0.03</td><td> 0.00</td><td> 0.14</td><td> 0.13</td><td>-0.02</td><td> 0.03</td><td> 0.06</td></tr>\n",
       "\t<tr><th scope=row>Month</th><td> 0.00</td><td> 0.01</td><td> 1.00</td><td> 0.00</td><td> 0.00</td><td>-0.03</td><td> 0.01</td><td> 0.00</td><td> 0.00</td><td> 0.00</td><td> 0.03</td><td>-0.02</td><td> 0.00</td><td> 0.01</td><td> 0.01</td><td> 0.00</td><td>-0.01</td><td>-0.01</td></tr>\n",
       "\t<tr><th scope=row>Incident</th><td>-0.11</td><td> 0.12</td><td> 0.00</td><td> 1.00</td><td>-0.06</td><td>-0.02</td><td> 0.01</td><td>-0.01</td><td>-0.02</td><td> 0.11</td><td> 0.03</td><td>-0.03</td><td>-0.01</td><td> 0.09</td><td> 0.11</td><td>-0.02</td><td> 0.00</td><td> 0.00</td></tr>\n",
       "\t<tr><th scope=row>Crime.Type</th><td> 0.00</td><td>-0.01</td><td> 0.00</td><td>-0.06</td><td> 1.00</td><td>-0.07</td><td> 0.01</td><td> 0.03</td><td>-0.04</td><td>-0.01</td><td> 0.07</td><td>-0.04</td><td>-0.04</td><td> 0.02</td><td> 0.04</td><td>-0.03</td><td> 0.01</td><td> 0.02</td></tr>\n",
       "\t<tr><th scope=row>Crime.Solved</th><td> 0.08</td><td>-0.03</td><td>-0.03</td><td>-0.02</td><td>-0.07</td><td> 1.00</td><td>-0.08</td><td>-0.04</td><td> 0.08</td><td> 0.00</td><td>-0.89</td><td> 0.74</td><td>-0.18</td><td>-0.39</td><td>-0.45</td><td>-0.02</td><td> 0.03</td><td> 0.17</td></tr>\n",
       "\t<tr><th scope=row>Victim.Sex</th><td>-0.03</td><td> 0.02</td><td> 0.01</td><td> 0.01</td><td> 0.01</td><td>-0.08</td><td> 1.00</td><td> 0.05</td><td>-0.10</td><td>-0.05</td><td> 0.07</td><td>-0.17</td><td>-0.06</td><td> 0.00</td><td>-0.01</td><td> 0.02</td><td>-0.09</td><td> 0.07</td></tr>\n",
       "\t<tr><th scope=row>Victim.Age</th><td> 0.01</td><td> 0.01</td><td> 0.00</td><td>-0.01</td><td> 0.03</td><td>-0.04</td><td> 0.05</td><td> 1.00</td><td> 0.06</td><td> 0.04</td><td> 0.03</td><td> 0.04</td><td> 0.04</td><td> 0.03</td><td> 0.03</td><td> 0.02</td><td>-0.01</td><td>-0.02</td></tr>\n",
       "\t<tr><th scope=row>Victim.Race</th><td>-0.01</td><td>-0.04</td><td> 0.00</td><td>-0.02</td><td>-0.04</td><td> 0.08</td><td>-0.10</td><td> 0.06</td><td> 1.00</td><td>-0.26</td><td>-0.06</td><td> 0.12</td><td> 0.60</td><td>-0.19</td><td> 0.02</td><td> 0.00</td><td> 0.05</td><td> 0.01</td></tr>\n",
       "\t<tr><th scope=row>Victim.Ethnicity</th><td> 0.12</td><td> 0.13</td><td> 0.00</td><td> 0.11</td><td>-0.01</td><td> 0.00</td><td>-0.05</td><td> 0.04</td><td>-0.26</td><td> 1.00</td><td>-0.01</td><td> 0.01</td><td>-0.17</td><td> 0.70</td><td>-0.01</td><td>-0.01</td><td> 0.02</td><td> 0.02</td></tr>\n",
       "\t<tr><th scope=row>Perpetrator.Sex</th><td>-0.08</td><td> 0.04</td><td> 0.03</td><td> 0.03</td><td> 0.07</td><td>-0.89</td><td> 0.07</td><td> 0.03</td><td>-0.06</td><td>-0.01</td><td> 1.00</td><td>-0.68</td><td> 0.17</td><td> 0.34</td><td> 0.45</td><td> 0.01</td><td>-0.01</td><td>-0.13</td></tr>\n",
       "\t<tr><th scope=row>Perpetrator.Age</th><td> 0.06</td><td>-0.03</td><td>-0.02</td><td>-0.03</td><td>-0.04</td><td> 0.74</td><td>-0.17</td><td> 0.04</td><td> 0.12</td><td> 0.01</td><td>-0.68</td><td> 1.00</td><td>-0.03</td><td>-0.29</td><td>-0.37</td><td> 0.00</td><td> 0.03</td><td> 0.01</td></tr>\n",
       "\t<tr><th scope=row>Perpetrator.Race</th><td>-0.03</td><td> 0.00</td><td> 0.00</td><td>-0.01</td><td>-0.04</td><td>-0.18</td><td>-0.06</td><td> 0.04</td><td> 0.60</td><td>-0.17</td><td> 0.17</td><td>-0.03</td><td> 1.00</td><td>-0.15</td><td> 0.13</td><td> 0.01</td><td> 0.04</td><td>-0.06</td></tr>\n",
       "\t<tr><th scope=row>Perpetrator.Ethnicity</th><td> 0.04</td><td> 0.14</td><td> 0.01</td><td> 0.09</td><td> 0.02</td><td>-0.39</td><td> 0.00</td><td> 0.03</td><td>-0.19</td><td> 0.70</td><td> 0.34</td><td>-0.29</td><td>-0.15</td><td> 1.00</td><td> 0.17</td><td>-0.01</td><td> 0.02</td><td>-0.05</td></tr>\n",
       "\t<tr><th scope=row>Relationship</th><td>-0.11</td><td> 0.13</td><td> 0.01</td><td> 0.11</td><td> 0.04</td><td>-0.45</td><td>-0.01</td><td> 0.03</td><td> 0.02</td><td>-0.01</td><td> 0.45</td><td>-0.37</td><td> 0.13</td><td> 0.17</td><td> 1.00</td><td> 0.01</td><td> 0.01</td><td> 0.00</td></tr>\n",
       "\t<tr><th scope=row>Weapon</th><td> 0.00</td><td>-0.02</td><td> 0.00</td><td>-0.02</td><td>-0.03</td><td>-0.02</td><td> 0.02</td><td> 0.02</td><td> 0.00</td><td>-0.01</td><td> 0.01</td><td> 0.00</td><td> 0.01</td><td>-0.01</td><td> 0.01</td><td> 1.00</td><td> 0.01</td><td>-0.02</td></tr>\n",
       "\t<tr><th scope=row>Victim.Count</th><td> 0.02</td><td> 0.03</td><td>-0.01</td><td> 0.00</td><td> 0.01</td><td> 0.03</td><td>-0.09</td><td>-0.01</td><td> 0.05</td><td> 0.02</td><td>-0.01</td><td> 0.03</td><td> 0.04</td><td> 0.02</td><td> 0.01</td><td> 0.01</td><td> 1.00</td><td> 0.07</td></tr>\n",
       "\t<tr><th scope=row>Perpetrator.Count</th><td> 0.03</td><td> 0.06</td><td>-0.01</td><td> 0.00</td><td> 0.02</td><td> 0.17</td><td> 0.07</td><td>-0.02</td><td> 0.01</td><td> 0.02</td><td>-0.13</td><td> 0.01</td><td>-0.06</td><td>-0.05</td><td> 0.00</td><td>-0.02</td><td> 0.07</td><td> 1.00</td></tr>\n",
       "</tbody>\n",
       "</table>\n"
      ],
      "text/latex": [
       "\\begin{tabular}{r|llllllllllllllllll}\n",
       "  & State & Year & Month & Incident & Crime.Type & Crime.Solved & Victim.Sex & Victim.Age & Victim.Race & Victim.Ethnicity & Perpetrator.Sex & Perpetrator.Age & Perpetrator.Race & Perpetrator.Ethnicity & Relationship & Weapon & Victim.Count & Perpetrator.Count\\\\\n",
       "\\hline\n",
       "\tState &  1.00 & -0.01 &  0.00 & -0.11 &  0.00 &  0.08 & -0.03 &  0.01 & -0.01 &  0.12 & -0.08 &  0.06 & -0.03 &  0.04 & -0.11 &  0.00 &  0.02 &  0.03\\\\\n",
       "\tYear & -0.01 &  1.00 &  0.01 &  0.12 & -0.01 & -0.03 &  0.02 &  0.01 & -0.04 &  0.13 &  0.04 & -0.03 &  0.00 &  0.14 &  0.13 & -0.02 &  0.03 &  0.06\\\\\n",
       "\tMonth &  0.00 &  0.01 &  1.00 &  0.00 &  0.00 & -0.03 &  0.01 &  0.00 &  0.00 &  0.00 &  0.03 & -0.02 &  0.00 &  0.01 &  0.01 &  0.00 & -0.01 & -0.01\\\\\n",
       "\tIncident & -0.11 &  0.12 &  0.00 &  1.00 & -0.06 & -0.02 &  0.01 & -0.01 & -0.02 &  0.11 &  0.03 & -0.03 & -0.01 &  0.09 &  0.11 & -0.02 &  0.00 &  0.00\\\\\n",
       "\tCrime.Type &  0.00 & -0.01 &  0.00 & -0.06 &  1.00 & -0.07 &  0.01 &  0.03 & -0.04 & -0.01 &  0.07 & -0.04 & -0.04 &  0.02 &  0.04 & -0.03 &  0.01 &  0.02\\\\\n",
       "\tCrime.Solved &  0.08 & -0.03 & -0.03 & -0.02 & -0.07 &  1.00 & -0.08 & -0.04 &  0.08 &  0.00 & -0.89 &  0.74 & -0.18 & -0.39 & -0.45 & -0.02 &  0.03 &  0.17\\\\\n",
       "\tVictim.Sex & -0.03 &  0.02 &  0.01 &  0.01 &  0.01 & -0.08 &  1.00 &  0.05 & -0.10 & -0.05 &  0.07 & -0.17 & -0.06 &  0.00 & -0.01 &  0.02 & -0.09 &  0.07\\\\\n",
       "\tVictim.Age &  0.01 &  0.01 &  0.00 & -0.01 &  0.03 & -0.04 &  0.05 &  1.00 &  0.06 &  0.04 &  0.03 &  0.04 &  0.04 &  0.03 &  0.03 &  0.02 & -0.01 & -0.02\\\\\n",
       "\tVictim.Race & -0.01 & -0.04 &  0.00 & -0.02 & -0.04 &  0.08 & -0.10 &  0.06 &  1.00 & -0.26 & -0.06 &  0.12 &  0.60 & -0.19 &  0.02 &  0.00 &  0.05 &  0.01\\\\\n",
       "\tVictim.Ethnicity &  0.12 &  0.13 &  0.00 &  0.11 & -0.01 &  0.00 & -0.05 &  0.04 & -0.26 &  1.00 & -0.01 &  0.01 & -0.17 &  0.70 & -0.01 & -0.01 &  0.02 &  0.02\\\\\n",
       "\tPerpetrator.Sex & -0.08 &  0.04 &  0.03 &  0.03 &  0.07 & -0.89 &  0.07 &  0.03 & -0.06 & -0.01 &  1.00 & -0.68 &  0.17 &  0.34 &  0.45 &  0.01 & -0.01 & -0.13\\\\\n",
       "\tPerpetrator.Age &  0.06 & -0.03 & -0.02 & -0.03 & -0.04 &  0.74 & -0.17 &  0.04 &  0.12 &  0.01 & -0.68 &  1.00 & -0.03 & -0.29 & -0.37 &  0.00 &  0.03 &  0.01\\\\\n",
       "\tPerpetrator.Race & -0.03 &  0.00 &  0.00 & -0.01 & -0.04 & -0.18 & -0.06 &  0.04 &  0.60 & -0.17 &  0.17 & -0.03 &  1.00 & -0.15 &  0.13 &  0.01 &  0.04 & -0.06\\\\\n",
       "\tPerpetrator.Ethnicity &  0.04 &  0.14 &  0.01 &  0.09 &  0.02 & -0.39 &  0.00 &  0.03 & -0.19 &  0.70 &  0.34 & -0.29 & -0.15 &  1.00 &  0.17 & -0.01 &  0.02 & -0.05\\\\\n",
       "\tRelationship & -0.11 &  0.13 &  0.01 &  0.11 &  0.04 & -0.45 & -0.01 &  0.03 &  0.02 & -0.01 &  0.45 & -0.37 &  0.13 &  0.17 &  1.00 &  0.01 &  0.01 &  0.00\\\\\n",
       "\tWeapon &  0.00 & -0.02 &  0.00 & -0.02 & -0.03 & -0.02 &  0.02 &  0.02 &  0.00 & -0.01 &  0.01 &  0.00 &  0.01 & -0.01 &  0.01 &  1.00 &  0.01 & -0.02\\\\\n",
       "\tVictim.Count &  0.02 &  0.03 & -0.01 &  0.00 &  0.01 &  0.03 & -0.09 & -0.01 &  0.05 &  0.02 & -0.01 &  0.03 &  0.04 &  0.02 &  0.01 &  0.01 &  1.00 &  0.07\\\\\n",
       "\tPerpetrator.Count &  0.03 &  0.06 & -0.01 &  0.00 &  0.02 &  0.17 &  0.07 & -0.02 &  0.01 &  0.02 & -0.13 &  0.01 & -0.06 & -0.05 &  0.00 & -0.02 &  0.07 &  1.00\\\\\n",
       "\\end{tabular}\n"
      ],
      "text/markdown": [
       "\n",
       "| <!--/--> | State | Year | Month | Incident | Crime.Type | Crime.Solved | Victim.Sex | Victim.Age | Victim.Race | Victim.Ethnicity | Perpetrator.Sex | Perpetrator.Age | Perpetrator.Race | Perpetrator.Ethnicity | Relationship | Weapon | Victim.Count | Perpetrator.Count | \n",
       "|---|---|---|---|---|---|---|---|---|---|---|---|---|---|---|---|---|---|\n",
       "| State |  1.00 | -0.01 |  0.00 | -0.11 |  0.00 |  0.08 | -0.03 |  0.01 | -0.01 |  0.12 | -0.08 |  0.06 | -0.03 |  0.04 | -0.11 |  0.00 |  0.02 |  0.03 | \n",
       "| Year | -0.01 |  1.00 |  0.01 |  0.12 | -0.01 | -0.03 |  0.02 |  0.01 | -0.04 |  0.13 |  0.04 | -0.03 |  0.00 |  0.14 |  0.13 | -0.02 |  0.03 |  0.06 | \n",
       "| Month |  0.00 |  0.01 |  1.00 |  0.00 |  0.00 | -0.03 |  0.01 |  0.00 |  0.00 |  0.00 |  0.03 | -0.02 |  0.00 |  0.01 |  0.01 |  0.00 | -0.01 | -0.01 | \n",
       "| Incident | -0.11 |  0.12 |  0.00 |  1.00 | -0.06 | -0.02 |  0.01 | -0.01 | -0.02 |  0.11 |  0.03 | -0.03 | -0.01 |  0.09 |  0.11 | -0.02 |  0.00 |  0.00 | \n",
       "| Crime.Type |  0.00 | -0.01 |  0.00 | -0.06 |  1.00 | -0.07 |  0.01 |  0.03 | -0.04 | -0.01 |  0.07 | -0.04 | -0.04 |  0.02 |  0.04 | -0.03 |  0.01 |  0.02 | \n",
       "| Crime.Solved |  0.08 | -0.03 | -0.03 | -0.02 | -0.07 |  1.00 | -0.08 | -0.04 |  0.08 |  0.00 | -0.89 |  0.74 | -0.18 | -0.39 | -0.45 | -0.02 |  0.03 |  0.17 | \n",
       "| Victim.Sex | -0.03 |  0.02 |  0.01 |  0.01 |  0.01 | -0.08 |  1.00 |  0.05 | -0.10 | -0.05 |  0.07 | -0.17 | -0.06 |  0.00 | -0.01 |  0.02 | -0.09 |  0.07 | \n",
       "| Victim.Age |  0.01 |  0.01 |  0.00 | -0.01 |  0.03 | -0.04 |  0.05 |  1.00 |  0.06 |  0.04 |  0.03 |  0.04 |  0.04 |  0.03 |  0.03 |  0.02 | -0.01 | -0.02 | \n",
       "| Victim.Race | -0.01 | -0.04 |  0.00 | -0.02 | -0.04 |  0.08 | -0.10 |  0.06 |  1.00 | -0.26 | -0.06 |  0.12 |  0.60 | -0.19 |  0.02 |  0.00 |  0.05 |  0.01 | \n",
       "| Victim.Ethnicity |  0.12 |  0.13 |  0.00 |  0.11 | -0.01 |  0.00 | -0.05 |  0.04 | -0.26 |  1.00 | -0.01 |  0.01 | -0.17 |  0.70 | -0.01 | -0.01 |  0.02 |  0.02 | \n",
       "| Perpetrator.Sex | -0.08 |  0.04 |  0.03 |  0.03 |  0.07 | -0.89 |  0.07 |  0.03 | -0.06 | -0.01 |  1.00 | -0.68 |  0.17 |  0.34 |  0.45 |  0.01 | -0.01 | -0.13 | \n",
       "| Perpetrator.Age |  0.06 | -0.03 | -0.02 | -0.03 | -0.04 |  0.74 | -0.17 |  0.04 |  0.12 |  0.01 | -0.68 |  1.00 | -0.03 | -0.29 | -0.37 |  0.00 |  0.03 |  0.01 | \n",
       "| Perpetrator.Race | -0.03 |  0.00 |  0.00 | -0.01 | -0.04 | -0.18 | -0.06 |  0.04 |  0.60 | -0.17 |  0.17 | -0.03 |  1.00 | -0.15 |  0.13 |  0.01 |  0.04 | -0.06 | \n",
       "| Perpetrator.Ethnicity |  0.04 |  0.14 |  0.01 |  0.09 |  0.02 | -0.39 |  0.00 |  0.03 | -0.19 |  0.70 |  0.34 | -0.29 | -0.15 |  1.00 |  0.17 | -0.01 |  0.02 | -0.05 | \n",
       "| Relationship | -0.11 |  0.13 |  0.01 |  0.11 |  0.04 | -0.45 | -0.01 |  0.03 |  0.02 | -0.01 |  0.45 | -0.37 |  0.13 |  0.17 |  1.00 |  0.01 |  0.01 |  0.00 | \n",
       "| Weapon |  0.00 | -0.02 |  0.00 | -0.02 | -0.03 | -0.02 |  0.02 |  0.02 |  0.00 | -0.01 |  0.01 |  0.00 |  0.01 | -0.01 |  0.01 |  1.00 |  0.01 | -0.02 | \n",
       "| Victim.Count |  0.02 |  0.03 | -0.01 |  0.00 |  0.01 |  0.03 | -0.09 | -0.01 |  0.05 |  0.02 | -0.01 |  0.03 |  0.04 |  0.02 |  0.01 |  0.01 |  1.00 |  0.07 | \n",
       "| Perpetrator.Count |  0.03 |  0.06 | -0.01 |  0.00 |  0.02 |  0.17 |  0.07 | -0.02 |  0.01 |  0.02 | -0.13 |  0.01 | -0.06 | -0.05 |  0.00 | -0.02 |  0.07 |  1.00 | \n",
       "\n",
       "\n"
      ],
      "text/plain": [
       "                      State Year  Month Incident Crime.Type Crime.Solved\n",
       "State                  1.00 -0.01  0.00 -0.11     0.00       0.08       \n",
       "Year                  -0.01  1.00  0.01  0.12    -0.01      -0.03       \n",
       "Month                  0.00  0.01  1.00  0.00     0.00      -0.03       \n",
       "Incident              -0.11  0.12  0.00  1.00    -0.06      -0.02       \n",
       "Crime.Type             0.00 -0.01  0.00 -0.06     1.00      -0.07       \n",
       "Crime.Solved           0.08 -0.03 -0.03 -0.02    -0.07       1.00       \n",
       "Victim.Sex            -0.03  0.02  0.01  0.01     0.01      -0.08       \n",
       "Victim.Age             0.01  0.01  0.00 -0.01     0.03      -0.04       \n",
       "Victim.Race           -0.01 -0.04  0.00 -0.02    -0.04       0.08       \n",
       "Victim.Ethnicity       0.12  0.13  0.00  0.11    -0.01       0.00       \n",
       "Perpetrator.Sex       -0.08  0.04  0.03  0.03     0.07      -0.89       \n",
       "Perpetrator.Age        0.06 -0.03 -0.02 -0.03    -0.04       0.74       \n",
       "Perpetrator.Race      -0.03  0.00  0.00 -0.01    -0.04      -0.18       \n",
       "Perpetrator.Ethnicity  0.04  0.14  0.01  0.09     0.02      -0.39       \n",
       "Relationship          -0.11  0.13  0.01  0.11     0.04      -0.45       \n",
       "Weapon                 0.00 -0.02  0.00 -0.02    -0.03      -0.02       \n",
       "Victim.Count           0.02  0.03 -0.01  0.00     0.01       0.03       \n",
       "Perpetrator.Count      0.03  0.06 -0.01  0.00     0.02       0.17       \n",
       "                      Victim.Sex Victim.Age Victim.Race Victim.Ethnicity\n",
       "State                 -0.03       0.01      -0.01        0.12           \n",
       "Year                   0.02       0.01      -0.04        0.13           \n",
       "Month                  0.01       0.00       0.00        0.00           \n",
       "Incident               0.01      -0.01      -0.02        0.11           \n",
       "Crime.Type             0.01       0.03      -0.04       -0.01           \n",
       "Crime.Solved          -0.08      -0.04       0.08        0.00           \n",
       "Victim.Sex             1.00       0.05      -0.10       -0.05           \n",
       "Victim.Age             0.05       1.00       0.06        0.04           \n",
       "Victim.Race           -0.10       0.06       1.00       -0.26           \n",
       "Victim.Ethnicity      -0.05       0.04      -0.26        1.00           \n",
       "Perpetrator.Sex        0.07       0.03      -0.06       -0.01           \n",
       "Perpetrator.Age       -0.17       0.04       0.12        0.01           \n",
       "Perpetrator.Race      -0.06       0.04       0.60       -0.17           \n",
       "Perpetrator.Ethnicity  0.00       0.03      -0.19        0.70           \n",
       "Relationship          -0.01       0.03       0.02       -0.01           \n",
       "Weapon                 0.02       0.02       0.00       -0.01           \n",
       "Victim.Count          -0.09      -0.01       0.05        0.02           \n",
       "Perpetrator.Count      0.07      -0.02       0.01        0.02           \n",
       "                      Perpetrator.Sex Perpetrator.Age Perpetrator.Race\n",
       "State                 -0.08            0.06           -0.03           \n",
       "Year                   0.04           -0.03            0.00           \n",
       "Month                  0.03           -0.02            0.00           \n",
       "Incident               0.03           -0.03           -0.01           \n",
       "Crime.Type             0.07           -0.04           -0.04           \n",
       "Crime.Solved          -0.89            0.74           -0.18           \n",
       "Victim.Sex             0.07           -0.17           -0.06           \n",
       "Victim.Age             0.03            0.04            0.04           \n",
       "Victim.Race           -0.06            0.12            0.60           \n",
       "Victim.Ethnicity      -0.01            0.01           -0.17           \n",
       "Perpetrator.Sex        1.00           -0.68            0.17           \n",
       "Perpetrator.Age       -0.68            1.00           -0.03           \n",
       "Perpetrator.Race       0.17           -0.03            1.00           \n",
       "Perpetrator.Ethnicity  0.34           -0.29           -0.15           \n",
       "Relationship           0.45           -0.37            0.13           \n",
       "Weapon                 0.01            0.00            0.01           \n",
       "Victim.Count          -0.01            0.03            0.04           \n",
       "Perpetrator.Count     -0.13            0.01           -0.06           \n",
       "                      Perpetrator.Ethnicity Relationship Weapon Victim.Count\n",
       "State                  0.04                 -0.11         0.00   0.02       \n",
       "Year                   0.14                  0.13        -0.02   0.03       \n",
       "Month                  0.01                  0.01         0.00  -0.01       \n",
       "Incident               0.09                  0.11        -0.02   0.00       \n",
       "Crime.Type             0.02                  0.04        -0.03   0.01       \n",
       "Crime.Solved          -0.39                 -0.45        -0.02   0.03       \n",
       "Victim.Sex             0.00                 -0.01         0.02  -0.09       \n",
       "Victim.Age             0.03                  0.03         0.02  -0.01       \n",
       "Victim.Race           -0.19                  0.02         0.00   0.05       \n",
       "Victim.Ethnicity       0.70                 -0.01        -0.01   0.02       \n",
       "Perpetrator.Sex        0.34                  0.45         0.01  -0.01       \n",
       "Perpetrator.Age       -0.29                 -0.37         0.00   0.03       \n",
       "Perpetrator.Race      -0.15                  0.13         0.01   0.04       \n",
       "Perpetrator.Ethnicity  1.00                  0.17        -0.01   0.02       \n",
       "Relationship           0.17                  1.00         0.01   0.01       \n",
       "Weapon                -0.01                  0.01         1.00   0.01       \n",
       "Victim.Count           0.02                  0.01         0.01   1.00       \n",
       "Perpetrator.Count     -0.05                  0.00        -0.02   0.07       \n",
       "                      Perpetrator.Count\n",
       "State                  0.03            \n",
       "Year                   0.06            \n",
       "Month                 -0.01            \n",
       "Incident               0.00            \n",
       "Crime.Type             0.02            \n",
       "Crime.Solved           0.17            \n",
       "Victim.Sex             0.07            \n",
       "Victim.Age            -0.02            \n",
       "Victim.Race            0.01            \n",
       "Victim.Ethnicity       0.02            \n",
       "Perpetrator.Sex       -0.13            \n",
       "Perpetrator.Age        0.01            \n",
       "Perpetrator.Race      -0.06            \n",
       "Perpetrator.Ethnicity -0.05            \n",
       "Relationship           0.00            \n",
       "Weapon                -0.02            \n",
       "Victim.Count           0.07            \n",
       "Perpetrator.Count      1.00            "
      ]
     },
     "metadata": {},
     "output_type": "display_data"
    }
   ],
   "source": [
    "hc.3<-hc.3[-19,-19]\n",
    "hc.3"
   ]
  },
  {
   "cell_type": "markdown",
   "metadata": {},
   "source": [
    "This correlation **matrix** shows the values of a positive or negative correlation. Positive are those which are directly proportionate to each other. Negatives are those which are inversely proportionate to each other."
   ]
  },
  {
   "cell_type": "markdown",
   "metadata": {},
   "source": [
    "Apart from correlation matrix we can also understand the relationship in terms of the variance. Following code does the same. It shows us that how strong one variable co-varies with the other on a positive or a negative line."
   ]
  },
  {
   "cell_type": "code",
   "execution_count": 29,
   "metadata": {
    "collapsed": false
   },
   "outputs": [],
   "source": [
    "hc.4<-round(cov(hc.2,hc.2),digits=2)"
   ]
  },
  {
   "cell_type": "code",
   "execution_count": 30,
   "metadata": {
    "collapsed": false
   },
   "outputs": [
    {
     "data": {
      "text/html": [
       "<table>\n",
       "<thead><tr><th></th><th scope=col>State</th><th scope=col>Year</th><th scope=col>Month</th><th scope=col>Incident</th><th scope=col>Crime.Type</th><th scope=col>Crime.Solved</th><th scope=col>Victim.Sex</th><th scope=col>Victim.Age</th><th scope=col>Victim.Race</th><th scope=col>Victim.Ethnicity</th><th scope=col>Perpetrator.Sex</th><th scope=col>Perpetrator.Age</th><th scope=col>Perpetrator.Race</th><th scope=col>Perpetrator.Ethnicity</th><th scope=col>Relationship</th><th scope=col>Weapon</th><th scope=col>Victim.Count</th><th scope=col>Perpetrator.Count</th></tr></thead>\n",
       "<tbody>\n",
       "\t<tr><th scope=row>State</th><td> 226.86</td><td> -0.86 </td><td>-0.17  </td><td>-158.93</td><td> 0.00  </td><td> 0.56  </td><td>-0.18  </td><td>   6.66</td><td>-0.22  </td><td> 1.20  </td><td>-0.66  </td><td> 16.87 </td><td>-0.58  </td><td> 0.33  </td><td>-17.17 </td><td> 0.14  </td><td> 0.14  </td><td> 0.31  </td></tr>\n",
       "\t<tr><th scope=row>Year</th><td>  -0.86</td><td> 98.56 </td><td> 0.29  </td><td> 113.55</td><td>-0.02  </td><td>-0.12  </td><td> 0.06  </td><td>   2.28</td><td>-0.62  </td><td> 0.91  </td><td> 0.25  </td><td> -5.05 </td><td> 0.00  </td><td> 0.86  </td><td> 13.59 </td><td>-0.70  </td><td> 0.14  </td><td> 0.33  </td></tr>\n",
       "\t<tr><th scope=row>Month</th><td>  -0.17</td><td>  0.29 </td><td>11.65  </td><td>   0.33</td><td> 0.00  </td><td>-0.05  </td><td> 0.01  </td><td>   0.45</td><td>-0.02  </td><td>-0.01  </td><td> 0.05  </td><td> -1.49 </td><td> 0.02  </td><td> 0.02  </td><td>  0.53 </td><td> 0.00  </td><td>-0.02  </td><td>-0.02  </td></tr>\n",
       "\t<tr><th scope=row>Incident</th><td>-158.93</td><td>113.55 </td><td> 0.33  </td><td>8491.59</td><td>-0.63  </td><td>-0.84  </td><td> 0.43  </td><td> -26.54</td><td>-2.44  </td><td> 7.17  </td><td> 1.36  </td><td>-42.96 </td><td>-0.63  </td><td> 5.19  </td><td>110.02 </td><td>-7.33  </td><td> 0.09  </td><td> 0.11  </td></tr>\n",
       "\t<tr><th scope=row>Crime.Type</th><td>   0.00</td><td> -0.02 </td><td> 0.00  </td><td>  -0.63</td><td> 0.01  </td><td> 0.00  </td><td> 0.00  </td><td>   0.14</td><td>-0.01  </td><td> 0.00  </td><td> 0.00  </td><td> -0.08 </td><td>-0.01  </td><td> 0.00  </td><td>  0.05 </td><td>-0.01  </td><td> 0.00  </td><td> 0.00  </td></tr>\n",
       "\t<tr><th scope=row>Crime.Solved</th><td>   0.56</td><td> -0.12 </td><td>-0.05  </td><td>  -0.84</td><td> 0.00  </td><td> 0.21  </td><td>-0.02  </td><td>  -0.72</td><td> 0.06  </td><td> 0.00  </td><td>-0.23  </td><td>  6.02 </td><td>-0.11  </td><td>-0.11  </td><td> -2.21 </td><td>-0.03  </td><td> 0.01  </td><td> 0.04  </td></tr>\n",
       "\t<tr><th scope=row>Victim.Sex</th><td>  -0.18</td><td>  0.06 </td><td> 0.01  </td><td>   0.43</td><td> 0.00  </td><td>-0.02  </td><td> 0.18  </td><td>   0.81</td><td>-0.07  </td><td>-0.01  </td><td> 0.02  </td><td> -1.28 </td><td>-0.03  </td><td> 0.00  </td><td> -0.06 </td><td> 0.02  </td><td>-0.02  </td><td> 0.02  </td></tr>\n",
       "\t<tr><th scope=row>Victim.Age</th><td>   6.66</td><td>  2.28 </td><td> 0.45  </td><td> -26.54</td><td> 0.14  </td><td>-0.72  </td><td> 0.81  </td><td>1732.92</td><td> 3.97  </td><td> 1.17  </td><td> 0.74  </td><td> 31.21 </td><td> 1.91  </td><td> 0.85  </td><td> 14.75 </td><td> 3.31  </td><td>-0.18  </td><td>-0.42  </td></tr>\n",
       "\t<tr><th scope=row>Victim.Race</th><td>  -0.22</td><td> -0.62 </td><td>-0.02  </td><td>  -2.44</td><td>-0.01  </td><td> 0.06  </td><td>-0.07  </td><td>   3.97</td><td> 2.28  </td><td>-0.27  </td><td>-0.05  </td><td>  3.36 </td><td> 1.15  </td><td>-0.17  </td><td>  0.30 </td><td>-0.02  </td><td> 0.04  </td><td> 0.01  </td></tr>\n",
       "\t<tr><th scope=row>Victim.Ethnicity</th><td>   1.20</td><td>  0.91 </td><td>-0.01  </td><td>   7.17</td><td> 0.00  </td><td> 0.00  </td><td>-0.01  </td><td>   1.17</td><td>-0.27  </td><td> 0.48  </td><td> 0.00  </td><td>  0.10 </td><td>-0.15  </td><td> 0.30  </td><td> -0.08 </td><td>-0.02  </td><td> 0.01  </td><td> 0.01  </td></tr>\n",
       "\t<tr><th scope=row>Perpetrator.Sex</th><td>  -0.66</td><td>  0.25 </td><td> 0.05  </td><td>   1.36</td><td> 0.00  </td><td>-0.23  </td><td> 0.02  </td><td>   0.74</td><td>-0.05  </td><td> 0.00  </td><td> 0.32  </td><td> -6.91 </td><td> 0.13  </td><td> 0.12  </td><td>  2.76 </td><td> 0.02  </td><td> 0.00  </td><td>-0.04  </td></tr>\n",
       "\t<tr><th scope=row>Perpetrator.Age</th><td>  16.87</td><td> -5.05 </td><td>-1.49  </td><td> -42.96</td><td>-0.08  </td><td> 6.02  </td><td>-1.28  </td><td>  31.21</td><td> 3.36  </td><td> 0.10  </td><td>-6.91  </td><td>319.94 </td><td>-0.71  </td><td>-3.17  </td><td>-70.02 </td><td> 0.00  </td><td> 0.26  </td><td> 0.09  </td></tr>\n",
       "\t<tr><th scope=row>Perpetrator.Race</th><td>  -0.58</td><td>  0.00 </td><td> 0.02  </td><td>  -0.63</td><td>-0.01  </td><td>-0.11  </td><td>-0.03  </td><td>   1.91</td><td> 1.15  </td><td>-0.15  </td><td> 0.13  </td><td> -0.71 </td><td> 1.64  </td><td>-0.12  </td><td>  1.79 </td><td> 0.06  </td><td> 0.03  </td><td>-0.05  </td></tr>\n",
       "\t<tr><th scope=row>Perpetrator.Ethnicity</th><td>   0.33</td><td>  0.86 </td><td> 0.02  </td><td>   5.19</td><td> 0.00  </td><td>-0.11  </td><td> 0.00  </td><td>   0.85</td><td>-0.17  </td><td> 0.30  </td><td> 0.12  </td><td> -3.17 </td><td>-0.12  </td><td> 0.38  </td><td>  1.12 </td><td>-0.01  </td><td> 0.01  </td><td>-0.02  </td></tr>\n",
       "\t<tr><th scope=row>Relationship</th><td> -17.17</td><td> 13.59 </td><td> 0.53  </td><td> 110.02</td><td> 0.05  </td><td>-2.21  </td><td>-0.06  </td><td>  14.75</td><td> 0.30  </td><td>-0.08  </td><td> 2.76  </td><td>-70.02 </td><td> 1.79  </td><td> 1.12  </td><td>113.41 </td><td> 0.21  </td><td> 0.06  </td><td>-0.01  </td></tr>\n",
       "\t<tr><th scope=row>Weapon</th><td>   0.14</td><td> -0.70 </td><td> 0.00  </td><td>  -7.33</td><td>-0.01  </td><td>-0.03  </td><td> 0.02  </td><td>   3.31</td><td>-0.02  </td><td>-0.02  </td><td> 0.02  </td><td>  0.00 </td><td> 0.06  </td><td>-0.01  </td><td>  0.21 </td><td>11.66  </td><td> 0.02  </td><td>-0.04  </td></tr>\n",
       "\t<tr><th scope=row>Victim.Count</th><td>   0.14</td><td>  0.14 </td><td>-0.02  </td><td>   0.09</td><td> 0.00  </td><td> 0.01  </td><td>-0.02  </td><td>  -0.18</td><td> 0.04  </td><td> 0.01  </td><td> 0.00  </td><td>  0.26 </td><td> 0.03  </td><td> 0.01  </td><td>  0.06 </td><td> 0.02  </td><td> 0.29  </td><td> 0.02  </td></tr>\n",
       "\t<tr><th scope=row>Perpetrator.Count</th><td>   0.31</td><td>  0.33 </td><td>-0.02  </td><td>   0.11</td><td> 0.00  </td><td> 0.04  </td><td> 0.02  </td><td>  -0.42</td><td> 0.01  </td><td> 0.01  </td><td>-0.04  </td><td>  0.09 </td><td>-0.05  </td><td>-0.02  </td><td> -0.01 </td><td>-0.04  </td><td> 0.02  </td><td> 0.34  </td></tr>\n",
       "</tbody>\n",
       "</table>\n"
      ],
      "text/latex": [
       "\\begin{tabular}{r|llllllllllllllllll}\n",
       "  & State & Year & Month & Incident & Crime.Type & Crime.Solved & Victim.Sex & Victim.Age & Victim.Race & Victim.Ethnicity & Perpetrator.Sex & Perpetrator.Age & Perpetrator.Race & Perpetrator.Ethnicity & Relationship & Weapon & Victim.Count & Perpetrator.Count\\\\\n",
       "\\hline\n",
       "\tState &  226.86 &  -0.86  & -0.17   & -158.93 &  0.00   &  0.56   & -0.18   &    6.66 & -0.22   &  1.20   & -0.66   &  16.87  & -0.58   &  0.33   & -17.17  &  0.14   &  0.14   &  0.31  \\\\\n",
       "\tYear &   -0.86 &  98.56  &  0.29   &  113.55 & -0.02   & -0.12   &  0.06   &    2.28 & -0.62   &  0.91   &  0.25   &  -5.05  &  0.00   &  0.86   &  13.59  & -0.70   &  0.14   &  0.33  \\\\\n",
       "\tMonth &   -0.17 &   0.29  & 11.65   &    0.33 &  0.00   & -0.05   &  0.01   &    0.45 & -0.02   & -0.01   &  0.05   &  -1.49  &  0.02   &  0.02   &   0.53  &  0.00   & -0.02   & -0.02  \\\\\n",
       "\tIncident & -158.93 & 113.55  &  0.33   & 8491.59 & -0.63   & -0.84   &  0.43   &  -26.54 & -2.44   &  7.17   &  1.36   & -42.96  & -0.63   &  5.19   & 110.02  & -7.33   &  0.09   &  0.11  \\\\\n",
       "\tCrime.Type &    0.00 &  -0.02  &  0.00   &   -0.63 &  0.01   &  0.00   &  0.00   &    0.14 & -0.01   &  0.00   &  0.00   &  -0.08  & -0.01   &  0.00   &   0.05  & -0.01   &  0.00   &  0.00  \\\\\n",
       "\tCrime.Solved &    0.56 &  -0.12  & -0.05   &   -0.84 &  0.00   &  0.21   & -0.02   &   -0.72 &  0.06   &  0.00   & -0.23   &   6.02  & -0.11   & -0.11   &  -2.21  & -0.03   &  0.01   &  0.04  \\\\\n",
       "\tVictim.Sex &   -0.18 &   0.06  &  0.01   &    0.43 &  0.00   & -0.02   &  0.18   &    0.81 & -0.07   & -0.01   &  0.02   &  -1.28  & -0.03   &  0.00   &  -0.06  &  0.02   & -0.02   &  0.02  \\\\\n",
       "\tVictim.Age &    6.66 &   2.28  &  0.45   &  -26.54 &  0.14   & -0.72   &  0.81   & 1732.92 &  3.97   &  1.17   &  0.74   &  31.21  &  1.91   &  0.85   &  14.75  &  3.31   & -0.18   & -0.42  \\\\\n",
       "\tVictim.Race &   -0.22 &  -0.62  & -0.02   &   -2.44 & -0.01   &  0.06   & -0.07   &    3.97 &  2.28   & -0.27   & -0.05   &   3.36  &  1.15   & -0.17   &   0.30  & -0.02   &  0.04   &  0.01  \\\\\n",
       "\tVictim.Ethnicity &    1.20 &   0.91  & -0.01   &    7.17 &  0.00   &  0.00   & -0.01   &    1.17 & -0.27   &  0.48   &  0.00   &   0.10  & -0.15   &  0.30   &  -0.08  & -0.02   &  0.01   &  0.01  \\\\\n",
       "\tPerpetrator.Sex &   -0.66 &   0.25  &  0.05   &    1.36 &  0.00   & -0.23   &  0.02   &    0.74 & -0.05   &  0.00   &  0.32   &  -6.91  &  0.13   &  0.12   &   2.76  &  0.02   &  0.00   & -0.04  \\\\\n",
       "\tPerpetrator.Age &   16.87 &  -5.05  & -1.49   &  -42.96 & -0.08   &  6.02   & -1.28   &   31.21 &  3.36   &  0.10   & -6.91   & 319.94  & -0.71   & -3.17   & -70.02  &  0.00   &  0.26   &  0.09  \\\\\n",
       "\tPerpetrator.Race &   -0.58 &   0.00  &  0.02   &   -0.63 & -0.01   & -0.11   & -0.03   &    1.91 &  1.15   & -0.15   &  0.13   &  -0.71  &  1.64   & -0.12   &   1.79  &  0.06   &  0.03   & -0.05  \\\\\n",
       "\tPerpetrator.Ethnicity &    0.33 &   0.86  &  0.02   &    5.19 &  0.00   & -0.11   &  0.00   &    0.85 & -0.17   &  0.30   &  0.12   &  -3.17  & -0.12   &  0.38   &   1.12  & -0.01   &  0.01   & -0.02  \\\\\n",
       "\tRelationship &  -17.17 &  13.59  &  0.53   &  110.02 &  0.05   & -2.21   & -0.06   &   14.75 &  0.30   & -0.08   &  2.76   & -70.02  &  1.79   &  1.12   & 113.41  &  0.21   &  0.06   & -0.01  \\\\\n",
       "\tWeapon &    0.14 &  -0.70  &  0.00   &   -7.33 & -0.01   & -0.03   &  0.02   &    3.31 & -0.02   & -0.02   &  0.02   &   0.00  &  0.06   & -0.01   &   0.21  & 11.66   &  0.02   & -0.04  \\\\\n",
       "\tVictim.Count &    0.14 &   0.14  & -0.02   &    0.09 &  0.00   &  0.01   & -0.02   &   -0.18 &  0.04   &  0.01   &  0.00   &   0.26  &  0.03   &  0.01   &   0.06  &  0.02   &  0.29   &  0.02  \\\\\n",
       "\tPerpetrator.Count &    0.31 &   0.33  & -0.02   &    0.11 &  0.00   &  0.04   &  0.02   &   -0.42 &  0.01   &  0.01   & -0.04   &   0.09  & -0.05   & -0.02   &  -0.01  & -0.04   &  0.02   &  0.34  \\\\\n",
       "\\end{tabular}\n"
      ],
      "text/markdown": [
       "\n",
       "| <!--/--> | State | Year | Month | Incident | Crime.Type | Crime.Solved | Victim.Sex | Victim.Age | Victim.Race | Victim.Ethnicity | Perpetrator.Sex | Perpetrator.Age | Perpetrator.Race | Perpetrator.Ethnicity | Relationship | Weapon | Victim.Count | Perpetrator.Count | \n",
       "|---|---|---|---|---|---|---|---|---|---|---|---|---|---|---|---|---|---|\n",
       "| State |  226.86 |  -0.86  | -0.17   | -158.93 |  0.00   |  0.56   | -0.18   |    6.66 | -0.22   |  1.20   | -0.66   |  16.87  | -0.58   |  0.33   | -17.17  |  0.14   |  0.14   |  0.31   | \n",
       "| Year |   -0.86 |  98.56  |  0.29   |  113.55 | -0.02   | -0.12   |  0.06   |    2.28 | -0.62   |  0.91   |  0.25   |  -5.05  |  0.00   |  0.86   |  13.59  | -0.70   |  0.14   |  0.33   | \n",
       "| Month |   -0.17 |   0.29  | 11.65   |    0.33 |  0.00   | -0.05   |  0.01   |    0.45 | -0.02   | -0.01   |  0.05   |  -1.49  |  0.02   |  0.02   |   0.53  |  0.00   | -0.02   | -0.02   | \n",
       "| Incident | -158.93 | 113.55  |  0.33   | 8491.59 | -0.63   | -0.84   |  0.43   |  -26.54 | -2.44   |  7.17   |  1.36   | -42.96  | -0.63   |  5.19   | 110.02  | -7.33   |  0.09   |  0.11   | \n",
       "| Crime.Type |    0.00 |  -0.02  |  0.00   |   -0.63 |  0.01   |  0.00   |  0.00   |    0.14 | -0.01   |  0.00   |  0.00   |  -0.08  | -0.01   |  0.00   |   0.05  | -0.01   |  0.00   |  0.00   | \n",
       "| Crime.Solved |    0.56 |  -0.12  | -0.05   |   -0.84 |  0.00   |  0.21   | -0.02   |   -0.72 |  0.06   |  0.00   | -0.23   |   6.02  | -0.11   | -0.11   |  -2.21  | -0.03   |  0.01   |  0.04   | \n",
       "| Victim.Sex |   -0.18 |   0.06  |  0.01   |    0.43 |  0.00   | -0.02   |  0.18   |    0.81 | -0.07   | -0.01   |  0.02   |  -1.28  | -0.03   |  0.00   |  -0.06  |  0.02   | -0.02   |  0.02   | \n",
       "| Victim.Age |    6.66 |   2.28  |  0.45   |  -26.54 |  0.14   | -0.72   |  0.81   | 1732.92 |  3.97   |  1.17   |  0.74   |  31.21  |  1.91   |  0.85   |  14.75  |  3.31   | -0.18   | -0.42   | \n",
       "| Victim.Race |   -0.22 |  -0.62  | -0.02   |   -2.44 | -0.01   |  0.06   | -0.07   |    3.97 |  2.28   | -0.27   | -0.05   |   3.36  |  1.15   | -0.17   |   0.30  | -0.02   |  0.04   |  0.01   | \n",
       "| Victim.Ethnicity |    1.20 |   0.91  | -0.01   |    7.17 |  0.00   |  0.00   | -0.01   |    1.17 | -0.27   |  0.48   |  0.00   |   0.10  | -0.15   |  0.30   |  -0.08  | -0.02   |  0.01   |  0.01   | \n",
       "| Perpetrator.Sex |   -0.66 |   0.25  |  0.05   |    1.36 |  0.00   | -0.23   |  0.02   |    0.74 | -0.05   |  0.00   |  0.32   |  -6.91  |  0.13   |  0.12   |   2.76  |  0.02   |  0.00   | -0.04   | \n",
       "| Perpetrator.Age |   16.87 |  -5.05  | -1.49   |  -42.96 | -0.08   |  6.02   | -1.28   |   31.21 |  3.36   |  0.10   | -6.91   | 319.94  | -0.71   | -3.17   | -70.02  |  0.00   |  0.26   |  0.09   | \n",
       "| Perpetrator.Race |   -0.58 |   0.00  |  0.02   |   -0.63 | -0.01   | -0.11   | -0.03   |    1.91 |  1.15   | -0.15   |  0.13   |  -0.71  |  1.64   | -0.12   |   1.79  |  0.06   |  0.03   | -0.05   | \n",
       "| Perpetrator.Ethnicity |    0.33 |   0.86  |  0.02   |    5.19 |  0.00   | -0.11   |  0.00   |    0.85 | -0.17   |  0.30   |  0.12   |  -3.17  | -0.12   |  0.38   |   1.12  | -0.01   |  0.01   | -0.02   | \n",
       "| Relationship |  -17.17 |  13.59  |  0.53   |  110.02 |  0.05   | -2.21   | -0.06   |   14.75 |  0.30   | -0.08   |  2.76   | -70.02  |  1.79   |  1.12   | 113.41  |  0.21   |  0.06   | -0.01   | \n",
       "| Weapon |    0.14 |  -0.70  |  0.00   |   -7.33 | -0.01   | -0.03   |  0.02   |    3.31 | -0.02   | -0.02   |  0.02   |   0.00  |  0.06   | -0.01   |   0.21  | 11.66   |  0.02   | -0.04   | \n",
       "| Victim.Count |    0.14 |   0.14  | -0.02   |    0.09 |  0.00   |  0.01   | -0.02   |   -0.18 |  0.04   |  0.01   |  0.00   |   0.26  |  0.03   |  0.01   |   0.06  |  0.02   |  0.29   |  0.02   | \n",
       "| Perpetrator.Count |    0.31 |   0.33  | -0.02   |    0.11 |  0.00   |  0.04   |  0.02   |   -0.42 |  0.01   |  0.01   | -0.04   |   0.09  | -0.05   | -0.02   |  -0.01  | -0.04   |  0.02   |  0.34   | \n",
       "\n",
       "\n"
      ],
      "text/plain": [
       "                      State   Year   Month Incident Crime.Type Crime.Solved\n",
       "State                  226.86  -0.86 -0.17 -158.93   0.00       0.56       \n",
       "Year                    -0.86  98.56  0.29  113.55  -0.02      -0.12       \n",
       "Month                   -0.17   0.29 11.65    0.33   0.00      -0.05       \n",
       "Incident              -158.93 113.55  0.33 8491.59  -0.63      -0.84       \n",
       "Crime.Type               0.00  -0.02  0.00   -0.63   0.01       0.00       \n",
       "Crime.Solved             0.56  -0.12 -0.05   -0.84   0.00       0.21       \n",
       "Victim.Sex              -0.18   0.06  0.01    0.43   0.00      -0.02       \n",
       "Victim.Age               6.66   2.28  0.45  -26.54   0.14      -0.72       \n",
       "Victim.Race             -0.22  -0.62 -0.02   -2.44  -0.01       0.06       \n",
       "Victim.Ethnicity         1.20   0.91 -0.01    7.17   0.00       0.00       \n",
       "Perpetrator.Sex         -0.66   0.25  0.05    1.36   0.00      -0.23       \n",
       "Perpetrator.Age         16.87  -5.05 -1.49  -42.96  -0.08       6.02       \n",
       "Perpetrator.Race        -0.58   0.00  0.02   -0.63  -0.01      -0.11       \n",
       "Perpetrator.Ethnicity    0.33   0.86  0.02    5.19   0.00      -0.11       \n",
       "Relationship           -17.17  13.59  0.53  110.02   0.05      -2.21       \n",
       "Weapon                   0.14  -0.70  0.00   -7.33  -0.01      -0.03       \n",
       "Victim.Count             0.14   0.14 -0.02    0.09   0.00       0.01       \n",
       "Perpetrator.Count        0.31   0.33 -0.02    0.11   0.00       0.04       \n",
       "                      Victim.Sex Victim.Age Victim.Race Victim.Ethnicity\n",
       "State                 -0.18         6.66    -0.22        1.20           \n",
       "Year                   0.06         2.28    -0.62        0.91           \n",
       "Month                  0.01         0.45    -0.02       -0.01           \n",
       "Incident               0.43       -26.54    -2.44        7.17           \n",
       "Crime.Type             0.00         0.14    -0.01        0.00           \n",
       "Crime.Solved          -0.02        -0.72     0.06        0.00           \n",
       "Victim.Sex             0.18         0.81    -0.07       -0.01           \n",
       "Victim.Age             0.81      1732.92     3.97        1.17           \n",
       "Victim.Race           -0.07         3.97     2.28       -0.27           \n",
       "Victim.Ethnicity      -0.01         1.17    -0.27        0.48           \n",
       "Perpetrator.Sex        0.02         0.74    -0.05        0.00           \n",
       "Perpetrator.Age       -1.28        31.21     3.36        0.10           \n",
       "Perpetrator.Race      -0.03         1.91     1.15       -0.15           \n",
       "Perpetrator.Ethnicity  0.00         0.85    -0.17        0.30           \n",
       "Relationship          -0.06        14.75     0.30       -0.08           \n",
       "Weapon                 0.02         3.31    -0.02       -0.02           \n",
       "Victim.Count          -0.02        -0.18     0.04        0.01           \n",
       "Perpetrator.Count      0.02        -0.42     0.01        0.01           \n",
       "                      Perpetrator.Sex Perpetrator.Age Perpetrator.Race\n",
       "State                 -0.66            16.87          -0.58           \n",
       "Year                   0.25            -5.05           0.00           \n",
       "Month                  0.05            -1.49           0.02           \n",
       "Incident               1.36           -42.96          -0.63           \n",
       "Crime.Type             0.00            -0.08          -0.01           \n",
       "Crime.Solved          -0.23             6.02          -0.11           \n",
       "Victim.Sex             0.02            -1.28          -0.03           \n",
       "Victim.Age             0.74            31.21           1.91           \n",
       "Victim.Race           -0.05             3.36           1.15           \n",
       "Victim.Ethnicity       0.00             0.10          -0.15           \n",
       "Perpetrator.Sex        0.32            -6.91           0.13           \n",
       "Perpetrator.Age       -6.91           319.94          -0.71           \n",
       "Perpetrator.Race       0.13            -0.71           1.64           \n",
       "Perpetrator.Ethnicity  0.12            -3.17          -0.12           \n",
       "Relationship           2.76           -70.02           1.79           \n",
       "Weapon                 0.02             0.00           0.06           \n",
       "Victim.Count           0.00             0.26           0.03           \n",
       "Perpetrator.Count     -0.04             0.09          -0.05           \n",
       "                      Perpetrator.Ethnicity Relationship Weapon Victim.Count\n",
       "State                  0.33                 -17.17        0.14   0.14       \n",
       "Year                   0.86                  13.59       -0.70   0.14       \n",
       "Month                  0.02                   0.53        0.00  -0.02       \n",
       "Incident               5.19                 110.02       -7.33   0.09       \n",
       "Crime.Type             0.00                   0.05       -0.01   0.00       \n",
       "Crime.Solved          -0.11                  -2.21       -0.03   0.01       \n",
       "Victim.Sex             0.00                  -0.06        0.02  -0.02       \n",
       "Victim.Age             0.85                  14.75        3.31  -0.18       \n",
       "Victim.Race           -0.17                   0.30       -0.02   0.04       \n",
       "Victim.Ethnicity       0.30                  -0.08       -0.02   0.01       \n",
       "Perpetrator.Sex        0.12                   2.76        0.02   0.00       \n",
       "Perpetrator.Age       -3.17                 -70.02        0.00   0.26       \n",
       "Perpetrator.Race      -0.12                   1.79        0.06   0.03       \n",
       "Perpetrator.Ethnicity  0.38                   1.12       -0.01   0.01       \n",
       "Relationship           1.12                 113.41        0.21   0.06       \n",
       "Weapon                -0.01                   0.21       11.66   0.02       \n",
       "Victim.Count           0.01                   0.06        0.02   0.29       \n",
       "Perpetrator.Count     -0.02                  -0.01       -0.04   0.02       \n",
       "                      Perpetrator.Count\n",
       "State                  0.31            \n",
       "Year                   0.33            \n",
       "Month                 -0.02            \n",
       "Incident               0.11            \n",
       "Crime.Type             0.00            \n",
       "Crime.Solved           0.04            \n",
       "Victim.Sex             0.02            \n",
       "Victim.Age            -0.42            \n",
       "Victim.Race            0.01            \n",
       "Victim.Ethnicity       0.01            \n",
       "Perpetrator.Sex       -0.04            \n",
       "Perpetrator.Age        0.09            \n",
       "Perpetrator.Race      -0.05            \n",
       "Perpetrator.Ethnicity -0.02            \n",
       "Relationship          -0.01            \n",
       "Weapon                -0.04            \n",
       "Victim.Count           0.02            \n",
       "Perpetrator.Count      0.34            "
      ]
     },
     "metadata": {},
     "output_type": "display_data"
    }
   ],
   "source": [
    "hc.4<-hc.4[-19,-19]\n",
    "hc.4"
   ]
  },
  {
   "cell_type": "markdown",
   "metadata": {
    "collapsed": true
   },
   "source": [
    "We can take help from the graphical packages to showcase the above correlation on a visual plot."
   ]
  },
  {
   "cell_type": "code",
   "execution_count": 31,
   "metadata": {
    "collapsed": false
   },
   "outputs": [
    {
     "name": "stderr",
     "output_type": "stream",
     "text": [
      "Loading required package: ggcorrplot\n",
      "Loading required package: ggplot2\n"
     ]
    }
   ],
   "source": [
    "require(ggcorrplot)"
   ]
  },
  {
   "cell_type": "code",
   "execution_count": 32,
   "metadata": {
    "collapsed": false
   },
   "outputs": [
    {
     "data": {},
     "metadata": {},
     "output_type": "display_data"
    },
    {
     "data": {
      "image/png": "[encoded data removed]",
      "text/plain": [
       "plot without title"
      ]
     },
     "metadata": {},
     "output_type": "display_data"
    }
   ],
   "source": [
    "options(repr.plot.size=400)\n",
    "p1<-ggcorrplot(hc.3,lab = T,lab_size = 2.5,title=\"Correlations\")\n",
    "\n",
    "p1"
   ]
  },
  {
   "cell_type": "markdown",
   "metadata": {},
   "source": [
    "We can see many relationships from the plot, e.g., Perpetrator Age has positive relationship with Crime solved. This relationship can be varified using below code."
   ]
  },
  {
   "cell_type": "code",
   "execution_count": 33,
   "metadata": {
    "collapsed": false
   },
   "outputs": [
    {
     "data": {},
     "metadata": {},
     "output_type": "display_data"
    },
    {
     "data": {
      "image/png": "[encoded data removed]",
      "text/plain": [
       "plot without title"
      ]
     },
     "metadata": {},
     "output_type": "display_data"
    }
   ],
   "source": [
    "p2<-ggcorrplot(hc.4,lab = T,lab_size = 2,title = \"Scores\")\n",
    "p2"
   ]
  },
  {
   "cell_type": "code",
   "execution_count": 34,
   "metadata": {
    "collapsed": false
   },
   "outputs": [
    {
     "name": "stderr",
     "output_type": "stream",
     "text": [
      "Warning message:\n",
      "\"Removed 1 rows containing missing values (geom_point).\""
     ]
    },
    {
     "data": {
      "image/png": "[encoded data removed]",
      "text/plain": [
       "plot without title"
      ]
     },
     "metadata": {},
     "output_type": "display_data"
    }
   ],
   "source": [
    "d1<-hc.1 %>% group_by(Crime.Solved,Perpetrator.Age) %>% \n",
    "  filter(Crime.Solved==2) %>% \n",
    "  count() %>%\n",
    "  ungroup()\n",
    "\n",
    "\n",
    "d2<-hc.1 %>% group_by(Crime.Solved,Perpetrator.Age) %>% \n",
    "  filter(Crime.Solved==1) %>% \n",
    "  count() %>%\n",
    "  ungroup()\n",
    "\n",
    "q2<-qplot(data=d1,x=Perpetrator.Age,y=n)\n",
    "q1<-qplot(data = d2,x=Perpetrator.Age,y=n)\n",
    "\n",
    "gridExtra::grid.arrange(q1,q2)"
   ]
  },
  {
   "cell_type": "markdown",
   "metadata": {},
   "source": [
    "This code first counts all the records where Crime was Solved (all the observations with record = 1 means crime solved, 2 means crime not solved) Perpetrator age wise and then counts all the records where Crime was Unsolved. The number of Crimes solved in the Age range of 25-50 are quite higher. In fact, as the correlation figures(0.74) suggested, the rate of success for solving the crime increases from age 15, reaches peak around 19 and then start decresing till 75.\n",
    "\n",
    "This analysis can bring out one more important rule of thumb in understanding the crime. The success probability of solving the crime is at peak in the age range of 19-50. Perpetrators of age range more than 55-60 either do not attempt homicide or do not get caught.\n",
    "\n",
    "Age range can also suggest that the probability of using the Crime as social expression tool is quite higher. \n",
    "\n",
    "Another relation from the above correlation plot can be seen between Perpetrator's Sex (whether a female(1), or male(2)) Crime Solved. The ratio of Male perpetrator it self is higher than Female, but the ratio of Crime being solved when the perpetrator is a male is also high. This can be seen from the following graph. \n",
    "\n",
    "This could mean two inferences;\n",
    "    \n",
    "    Male Perpetrator crimes are very common in nature and easy to solve\n",
    "    Female Perpetrator crimes are very rare in nature and difficult to solve\n",
    "    \n",
    "Nonetheless, in this analysis we will not dig down into this inference"
   ]
  },
  {
   "cell_type": "code",
   "execution_count": 35,
   "metadata": {
    "collapsed": false
   },
   "outputs": [
    {
     "data": {},
     "metadata": {},
     "output_type": "display_data"
    },
    {
     "data": {
      "image/png": "[encoded data removed]",
      "text/plain": [
       "plot without title"
      ]
     },
     "metadata": {},
     "output_type": "display_data"
    }
   ],
   "source": [
    "## Perpetrator Sex v Crime Solved\n",
    "## We're converting the Y axis to *log* for a better visulisation\n",
    "## Though, it may show only a fraction of height diffrence in the bar plot because of log conversion, \n",
    "## the actual difference in numbers of crime solved are much higher\n",
    "\n",
    "\n",
    "d<- hc.1 %>% group_by(Perpetrator.Sex,Crime.Solved) %>% \n",
    "  filter(Perpetrator.Sex==1 | Perpetrator.Sex==2)%>%\n",
    "  count() %>%\n",
    "  mutate(ratio=sum(n)) %>%\n",
    "  as.data.frame()\n",
    "\n",
    "qplot(data = d,Crime.Solved,n) + \n",
    "  geom_bar(stat = \"identity\",position = \"dodge\",\n",
    "           aes(color=Perpetrator.Sex,\n",
    "               fill=Perpetrator.Sex)) + \n",
    "scale_y_log10()\n"
   ]
  },
  {
   "cell_type": "markdown",
   "metadata": {
    "collapsed": false
   },
   "source": [
    "The same correlation plot we made with simple *ggcorrplot* package can be made with *plotly* in 3d surface.\n",
    "Below code will do the same.\n",
    "\n",
    "((require(plotly)\n",
    "p3<-plot_ly(z=hc.3,type = \"surface\",\n",
    "        #x=row.names(hc.3),y=colnames(hc.3),\n",
    "        #size = c(10,100),showscale=T,reversescale=F,\n",
    "        #opacity=1,cauto=F)\n",
    "p3))\n",
    "\n",
    "**** This code is silent. You'll have to convert the cell to CODE from MARKDOWN"
   ]
  },
  {
   "cell_type": "markdown",
   "metadata": {},
   "source": [
    "## Understanding predictive modelling"
   ]
  },
  {
   "cell_type": "markdown",
   "metadata": {},
   "source": [
    "In this section we will use some of the predictive algorithm to predict the few of the variable. The process flow till now looks like;\n",
    "\n",
    "    1) We filtered and cleaned the data in Pre-processing section\n",
    "    2) We understood the correlations and variance of variables with each other\n",
    "    3) During some of the instances we also understood the inferences one can make from Pre-processing and Correlations\n",
    "\n",
    "Now we will try understand if the data variance and correlation can help use to build the predictive model or not.\n",
    "\n",
    "We will start with **PCA (Principle Component Analysis)** technique. PCA will tell us the principle data fields on which the dataset's variation/standard deviation is dependent."
   ]
  },
  {
   "cell_type": "code",
   "execution_count": 36,
   "metadata": {
    "collapsed": false
   },
   "outputs": [
    {
     "data": {
      "text/plain": [
       "Call:\n",
       "princomp(x = hc.2[, -19], cor = T, scores = T)\n",
       "\n",
       "Standard deviations:\n",
       "   Comp.1    Comp.2    Comp.3    Comp.4    Comp.5    Comp.6    Comp.7    Comp.8 \n",
       "1.7694480 1.4277866 1.1785470 1.0943298 1.0503674 1.0345282 1.0121225 1.0004183 \n",
       "   Comp.9   Comp.10   Comp.11   Comp.12   Comp.13   Comp.14   Comp.15   Comp.16 \n",
       "0.9967015 0.9552038 0.9331030 0.9157466 0.9024010 0.7853894 0.6381400 0.5601200 \n",
       "  Comp.17   Comp.18 \n",
       "0.4304824 0.3044042 \n",
       "\n",
       " 18  variables and  638453 observations."
      ]
     },
     "metadata": {},
     "output_type": "display_data"
    }
   ],
   "source": [
    "## PCA using princomp function\n",
    "\n",
    "pca<-princomp(hc.2[,-19],cor=T,scores=T)\n",
    "\n",
    "pca"
   ]
  },
  {
   "cell_type": "code",
   "execution_count": 37,
   "metadata": {
    "collapsed": false
   },
   "outputs": [
    {
     "data": {
      "text/plain": [
       "Importance of components:\n",
       "                          Comp.1    Comp.2     Comp.3     Comp.4     Comp.5\n",
       "Standard deviation     1.7694480 1.4277866 1.17854697 1.09432981 1.05036735\n",
       "Proportion of Variance 0.1739415 0.1132541 0.07716516 0.06653098 0.06129287\n",
       "Cumulative Proportion  0.1739415 0.2871956 0.36436076 0.43089175 0.49218461\n",
       "                           Comp.6     Comp.7     Comp.8     Comp.9    Comp.10\n",
       "Standard deviation     1.03452824 1.01212251 1.00041831 0.99670154 0.95520383\n",
       "Proportion of Variance 0.05945826 0.05691067 0.05560204 0.05518966 0.05068969\n",
       "Cumulative Proportion  0.55164287 0.60855354 0.66415558 0.71934525 0.77003493\n",
       "                          Comp.11    Comp.12    Comp.13   Comp.14    Comp.15\n",
       "Standard deviation     0.93310301 0.91574658 0.90240102 0.7853894 0.63814000\n",
       "Proportion of Variance 0.04837118 0.04658843 0.04524042 0.0342687 0.02262348\n",
       "Cumulative Proportion  0.81840611 0.86499455 0.91023497 0.9445037 0.96712714\n",
       "                          Comp.16    Comp.17     Comp.18\n",
       "Standard deviation     0.56012002 0.43048238 0.304404171\n",
       "Proportion of Variance 0.01742969 0.01029528 0.005147883\n",
       "Cumulative Proportion  0.98455683 0.99485212 1.000000000"
      ]
     },
     "metadata": {},
     "output_type": "display_data"
    }
   ],
   "source": [
    "summary(pca)"
   ]
  },
  {
   "cell_type": "markdown",
   "metadata": {},
   "source": [
    "This analysis shows the Standard Deviation (SD) that each component(variable) is responsible for. The above table showcase the commulative proprtion of SD for the comps. First 9 comps totals a 72% of SD, meaning out of 18 comps if we consider first 9, we will be able to understand the 72% deviation in data.\n",
    "\n",
    "The same can be plotted like the following graph. Conventionally we select variable which have Variance of >=1."
   ]
  },
  {
   "cell_type": "code",
   "execution_count": 38,
   "metadata": {
    "collapsed": false
   },
   "outputs": [
    {
     "data": {
      "image/png": "[encoded data removed]",
      "text/plain": [
       "Plot with title \"Var V Components\""
      ]
     },
     "metadata": {},
     "output_type": "display_data"
    }
   ],
   "source": [
    "plot(pca, main=\"Var V Components\")"
   ]
  },
  {
   "cell_type": "markdown",
   "metadata": {},
   "source": [
    "The same graph for the Standard Deviations (SD) can be plotted like the following."
   ]
  },
  {
   "cell_type": "code",
   "execution_count": 39,
   "metadata": {
    "collapsed": false
   },
   "outputs": [
    {
     "name": "stderr",
     "output_type": "stream",
     "text": [
      "Warning message:\n",
      "\"Ignoring unknown parameters: NA\""
     ]
    },
    {
     "data": {},
     "metadata": {},
     "output_type": "display_data"
    },
    {
     "data": {
      "image/png": "[encoded data removed]",
      "text/plain": [
       "plot without title"
      ]
     },
     "metadata": {},
     "output_type": "display_data"
    }
   ],
   "source": [
    "pca_sdev<-`colnames<-`(as.data.frame(pca$sdev),\"sdv\")\n",
    "\n",
    "pca_sdev$names<- c(1:18)\n",
    "\n",
    "p1<-qplot(pca_sdev,y=pca_sdev$sdv,x=pca_sdev$names) + \n",
    "labs(x=\"Components\",y=\"SD\") + geom_line() + \n",
    "scale_x_continuous(breaks=c(1:18)) +\n",
    "scale_y_continuous(breaks=c(seq(0,2,0.25))) + \n",
    "theme_bw() + ggtitle(\"Raw Data\")\n",
    "\n",
    "p1"
   ]
  },
  {
   "cell_type": "markdown",
   "metadata": {},
   "source": [
    "This graph shows the Standard Deviation (SD) and Components(variables) that are responsible for them.\n",
    "\n",
    "We now can understand one definite chracteristic of the dataset from PCA. This is not a highly correlated dataset, meaninng that, each componenet adds a little bit variation to the data. When we will set up the Machine Learning algorithm in the next section, this information will help us to choose the impartant parameters/components/features/variables to consider. And form PCA we can justify a very well reconstruction using first 9 variables of the dataset."
   ]
  },
  {
   "cell_type": "markdown",
   "metadata": {},
   "source": [
    "## Understanding the predictive & learning models"
   ]
  },
  {
   "cell_type": "markdown",
   "metadata": {},
   "source": [
    "In this section, we will try to implement few predictive and Machine Learning (ML) models to understand the dataset. These models will help us to get a knack on predictive nature of the Crimes. This is last section in Understanding the data, in the next section we will try to come up with the significant and important questions that can be asked and answered by Understanding the dataset. "
   ]
  },
  {
   "cell_type": "markdown",
   "metadata": {
    "collapsed": true
   },
   "source": [
    "Prior to using any predictice & learning models we'll reduce the noise in the dataset. This will help us to define reliable predictors."
   ]
  },
  {
   "cell_type": "markdown",
   "metadata": {
    "collapsed": true
   },
   "source": [
    "Since, most of the variables are factors/categorical variables, we can start with Classification models. We'll use two models, Naive bayes and Random forest."
   ]
  },
  {
   "cell_type": "markdown",
   "metadata": {},
   "source": [
    "In smoothing the noise out we will consider two variables. Perpetrator Age & Victim Age."
   ]
  },
  {
   "cell_type": "code",
   "execution_count": 40,
   "metadata": {
    "collapsed": false
   },
   "outputs": [
    {
     "data": {
      "text/html": [
       "<table>\n",
       "<thead><tr><th scope=col>State</th><th scope=col>Year</th><th scope=col>Month</th><th scope=col>Incident</th><th scope=col>Crime.Type</th><th scope=col>Crime.Solved</th><th scope=col>Victim.Sex</th><th scope=col>Victim.Age</th><th scope=col>Victim.Race</th><th scope=col>Victim.Ethnicity</th><th scope=col>Perpetrator.Sex</th><th scope=col>Perpetrator.Age</th><th scope=col>Perpetrator.Race</th><th scope=col>Perpetrator.Ethnicity</th><th scope=col>Relationship</th><th scope=col>Weapon</th><th scope=col>Victim.Count</th><th scope=col>Perpetrator.Count</th></tr></thead>\n",
       "<tbody>\n",
       "\t<tr><td>2   </td><td>1980</td><td>1   </td><td>1   </td><td>2   </td><td>2   </td><td>2   </td><td>14  </td><td>3   </td><td>3   </td><td>2   </td><td>15  </td><td>3   </td><td>3   </td><td> 1  </td><td> 1  </td><td>0   </td><td>0   </td></tr>\n",
       "\t<tr><td>2   </td><td>1980</td><td>3   </td><td>1   </td><td>2   </td><td>2   </td><td>2   </td><td>43  </td><td>5   </td><td>3   </td><td>2   </td><td>42  </td><td>5   </td><td>3   </td><td> 1  </td><td>14  </td><td>0   </td><td>0   </td></tr>\n",
       "\t<tr><td>2   </td><td>1980</td><td>4   </td><td>1   </td><td>2   </td><td>2   </td><td>2   </td><td>43  </td><td>5   </td><td>3   </td><td>2   </td><td>42  </td><td>5   </td><td>3   </td><td> 1  </td><td>14  </td><td>0   </td><td>0   </td></tr>\n",
       "\t<tr><td>2   </td><td>1980</td><td>5   </td><td>1   </td><td>2   </td><td>2   </td><td>2   </td><td>30  </td><td>5   </td><td>3   </td><td>2   </td><td>36  </td><td>5   </td><td>3   </td><td> 1  </td><td>12  </td><td>0   </td><td>0   </td></tr>\n",
       "\t<tr><td>2   </td><td>1980</td><td>5   </td><td>2   </td><td>2   </td><td>2   </td><td>1   </td><td>42  </td><td>3   </td><td>3   </td><td>2   </td><td>27  </td><td>2   </td><td>3   </td><td>28  </td><td>10  </td><td>0   </td><td>0   </td></tr>\n",
       "\t<tr><td>2   </td><td>1980</td><td>6   </td><td>1   </td><td>2   </td><td>2   </td><td>1   </td><td>99  </td><td>5   </td><td>3   </td><td>2   </td><td>35  </td><td>5   </td><td>3   </td><td>28  </td><td>10  </td><td>0   </td><td>0   </td></tr>\n",
       "</tbody>\n",
       "</table>\n"
      ],
      "text/latex": [
       "\\begin{tabular}{r|llllllllllllllllll}\n",
       " State & Year & Month & Incident & Crime.Type & Crime.Solved & Victim.Sex & Victim.Age & Victim.Race & Victim.Ethnicity & Perpetrator.Sex & Perpetrator.Age & Perpetrator.Race & Perpetrator.Ethnicity & Relationship & Weapon & Victim.Count & Perpetrator.Count\\\\\n",
       "\\hline\n",
       "\t 2    & 1980 & 1    & 1    & 2    & 2    & 2    & 14   & 3    & 3    & 2    & 15   & 3    & 3    &  1   &  1   & 0    & 0   \\\\\n",
       "\t 2    & 1980 & 3    & 1    & 2    & 2    & 2    & 43   & 5    & 3    & 2    & 42   & 5    & 3    &  1   & 14   & 0    & 0   \\\\\n",
       "\t 2    & 1980 & 4    & 1    & 2    & 2    & 2    & 43   & 5    & 3    & 2    & 42   & 5    & 3    &  1   & 14   & 0    & 0   \\\\\n",
       "\t 2    & 1980 & 5    & 1    & 2    & 2    & 2    & 30   & 5    & 3    & 2    & 36   & 5    & 3    &  1   & 12   & 0    & 0   \\\\\n",
       "\t 2    & 1980 & 5    & 2    & 2    & 2    & 1    & 42   & 3    & 3    & 2    & 27   & 2    & 3    & 28   & 10   & 0    & 0   \\\\\n",
       "\t 2    & 1980 & 6    & 1    & 2    & 2    & 1    & 99   & 5    & 3    & 2    & 35   & 5    & 3    & 28   & 10   & 0    & 0   \\\\\n",
       "\\end{tabular}\n"
      ],
      "text/markdown": [
       "\n",
       "State | Year | Month | Incident | Crime.Type | Crime.Solved | Victim.Sex | Victim.Age | Victim.Race | Victim.Ethnicity | Perpetrator.Sex | Perpetrator.Age | Perpetrator.Race | Perpetrator.Ethnicity | Relationship | Weapon | Victim.Count | Perpetrator.Count | \n",
       "|---|---|---|---|---|---|\n",
       "| 2    | 1980 | 1    | 1    | 2    | 2    | 2    | 14   | 3    | 3    | 2    | 15   | 3    | 3    |  1   |  1   | 0    | 0    | \n",
       "| 2    | 1980 | 3    | 1    | 2    | 2    | 2    | 43   | 5    | 3    | 2    | 42   | 5    | 3    |  1   | 14   | 0    | 0    | \n",
       "| 2    | 1980 | 4    | 1    | 2    | 2    | 2    | 43   | 5    | 3    | 2    | 42   | 5    | 3    |  1   | 14   | 0    | 0    | \n",
       "| 2    | 1980 | 5    | 1    | 2    | 2    | 2    | 30   | 5    | 3    | 2    | 36   | 5    | 3    |  1   | 12   | 0    | 0    | \n",
       "| 2    | 1980 | 5    | 2    | 2    | 2    | 1    | 42   | 3    | 3    | 2    | 27   | 2    | 3    | 28   | 10   | 0    | 0    | \n",
       "| 2    | 1980 | 6    | 1    | 2    | 2    | 1    | 99   | 5    | 3    | 2    | 35   | 5    | 3    | 28   | 10   | 0    | 0    | \n",
       "\n",
       "\n"
      ],
      "text/plain": [
       "  State Year Month Incident Crime.Type Crime.Solved Victim.Sex Victim.Age\n",
       "1 2     1980 1     1        2          2            2          14        \n",
       "2 2     1980 3     1        2          2            2          43        \n",
       "3 2     1980 4     1        2          2            2          43        \n",
       "4 2     1980 5     1        2          2            2          30        \n",
       "5 2     1980 5     2        2          2            1          42        \n",
       "6 2     1980 6     1        2          2            1          99        \n",
       "  Victim.Race Victim.Ethnicity Perpetrator.Sex Perpetrator.Age Perpetrator.Race\n",
       "1 3           3                2               15              3               \n",
       "2 5           3                2               42              5               \n",
       "3 5           3                2               42              5               \n",
       "4 5           3                2               36              5               \n",
       "5 3           3                2               27              2               \n",
       "6 5           3                2               35              5               \n",
       "  Perpetrator.Ethnicity Relationship Weapon Victim.Count Perpetrator.Count\n",
       "1 3                      1            1     0            0                \n",
       "2 3                      1           14     0            0                \n",
       "3 3                      1           14     0            0                \n",
       "4 3                      1           12     0            0                \n",
       "5 3                     28           10     0            0                \n",
       "6 3                     28           10     0            0                "
      ]
     },
     "metadata": {},
     "output_type": "display_data"
    }
   ],
   "source": [
    "hc_smooth<-as.data.frame(hc.2) %>% filter(Victim.Age>=0,\n",
    "                           Victim.Age<=99,\n",
    "                           Perpetrator.Age>=5,\n",
    "                           Perpetrator.Age<=99) %>% select(-Record.Source)\n",
    "\n",
    "head(hc_smooth)"
   ]
  },
  {
   "cell_type": "code",
   "execution_count": 41,
   "metadata": {
    "collapsed": false
   },
   "outputs": [
    {
     "data": {
      "text/html": [
       "<ol class=list-inline>\n",
       "\t<li>421699</li>\n",
       "\t<li>18</li>\n",
       "</ol>\n"
      ],
      "text/latex": [
       "\\begin{enumerate*}\n",
       "\\item 421699\n",
       "\\item 18\n",
       "\\end{enumerate*}\n"
      ],
      "text/markdown": [
       "1. 421699\n",
       "2. 18\n",
       "\n",
       "\n"
      ],
      "text/plain": [
       "[1] 421699     18"
      ]
     },
     "metadata": {},
     "output_type": "display_data"
    },
    {
     "data": {
      "text/html": [
       "<ol class=list-inline>\n",
       "\t<li>638453</li>\n",
       "\t<li>19</li>\n",
       "</ol>\n"
      ],
      "text/latex": [
       "\\begin{enumerate*}\n",
       "\\item 638453\n",
       "\\item 19\n",
       "\\end{enumerate*}\n"
      ],
      "text/markdown": [
       "1. 638453\n",
       "2. 19\n",
       "\n",
       "\n"
      ],
      "text/plain": [
       "[1] 638453     19"
      ]
     },
     "metadata": {},
     "output_type": "display_data"
    }
   ],
   "source": [
    "dim(hc_smooth)\n",
    "dim(hc.2)"
   ]
  },
  {
   "cell_type": "markdown",
   "metadata": {},
   "source": [
    "As you can notice, Smoothing has reduced the data by almost 200,000 data points/rows. If we plot the correlations with the new data you can observe the difference clearly. Let's do it."
   ]
  },
  {
   "cell_type": "code",
   "execution_count": 42,
   "metadata": {
    "collapsed": false
   },
   "outputs": [
    {
     "data": {},
     "metadata": {},
     "output_type": "display_data"
    },
    {
     "data": {
      "image/png": "[encoded data removed]",
      "text/plain": [
       "plot without title"
      ]
     },
     "metadata": {},
     "output_type": "display_data"
    }
   ],
   "source": [
    "hc.5<-round(cor(hc_smooth,hc_smooth),digits = 2)\n",
    "ggcorrplot(hc.5,lab = T,lab_size = 2.5)"
   ]
  },
  {
   "cell_type": "code",
   "execution_count": 43,
   "metadata": {
    "collapsed": false
   },
   "outputs": [
    {
     "data": {
      "text/plain": [
       "Importance of components:\n",
       "                          Comp.1     Comp.2    Comp.3     Comp.4     Comp.5\n",
       "Standard deviation     1.5327229 1.32670696 1.2010376 1.10493808 1.07167344\n",
       "Proportion of Variance 0.1305133 0.09778619 0.0801384 0.06782712 0.06380466\n",
       "Cumulative Proportion  0.1305133 0.22829949 0.3084379 0.37626501 0.44006968\n",
       "                          Comp.6     Comp.7     Comp.8     Comp.9    Comp.10\n",
       "Standard deviation     1.0298952 1.02310870 1.00745946 0.99841177 0.96312941\n",
       "Proportion of Variance 0.0589269 0.05815286 0.05638748 0.05537923 0.05153435\n",
       "Cumulative Proportion  0.4989966 0.55714943 0.61353691 0.66891613 0.72045048\n",
       "                          Comp.11    Comp.12    Comp.13    Comp.14    Comp.15\n",
       "Standard deviation     0.94547947 0.92454491 0.90840541 0.89067778 0.86904821\n",
       "Proportion of Variance 0.04966286 0.04748796 0.04584447 0.04407261 0.04195804\n",
       "Cumulative Proportion  0.77011334 0.81760130 0.86344576 0.90751837 0.94947641\n",
       "                          Comp.16    Comp.17     Comp.18\n",
       "Standard deviation     0.77432965 0.49909316 0.246463360\n",
       "Proportion of Variance 0.03331036 0.01383855 0.003374677\n",
       "Cumulative Proportion  0.98278677 0.99662532 1.000000000"
      ]
     },
     "metadata": {},
     "output_type": "display_data"
    },
    {
     "data": {
      "image/png": "[encoded data removed]",
      "text/plain": [
       "Plot with title \"pca2\""
      ]
     },
     "metadata": {},
     "output_type": "display_data"
    }
   ],
   "source": [
    "pca2<-princomp(hc_smooth,cor=T,scores=T)\n",
    "plot(pca2)\n",
    "summary(pca2)"
   ]
  },
  {
   "cell_type": "code",
   "execution_count": 44,
   "metadata": {
    "collapsed": false
   },
   "outputs": [
    {
     "name": "stderr",
     "output_type": "stream",
     "text": [
      "Warning message:\n",
      "\"Ignoring unknown parameters: NA\""
     ]
    },
    {
     "data": {
      "image/png": "[encoded data removed]",
      "text/plain": [
       "plot without title"
      ]
     },
     "metadata": {},
     "output_type": "display_data"
    }
   ],
   "source": [
    "pca2_sdev<-`colnames<-`(as.data.frame(pca2$sdev),\"sdv\")\n",
    "\n",
    "pca2_sdev$names<- c(1:18)\n",
    "\n",
    "q1<-qplot(pca2_sdev,y=pca2_sdev$sdv,x=pca2_sdev$names) + \n",
    "  labs(x=\"Components\",y=\"SD\") + geom_line() + \n",
    "  scale_x_continuous(breaks=c(1:18)) +\n",
    "  scale_y_continuous(breaks=c(seq(0,2,0.25))) + \n",
    "  theme_bw() + ggtitle(\"Smoothened Data\")\n",
    "\n",
    "gridExtra::grid.arrange(p1,q1)"
   ]
  },
  {
   "cell_type": "markdown",
   "metadata": {},
   "source": [
    "This shows the changes in the behaviour of the Data. In the Raw form, the SD (Standard Deviation) starts to decline from the 13th Component whereas in Smoothened version, this drops steeply from the 15th Component."
   ]
  },
  {
   "cell_type": "markdown",
   "metadata": {},
   "source": [
    "In the Coorelations plot also, the change of function is evidential.\n",
    "\n",
    "For e.g., in the Raw Data version the function of Crime Solved can be written as,\n",
    "\n",
    "*f(CS) ~ Perpetrator Sex (-0.89) + Perpetrator Age (0.75) + Perpetrator Race (-0.18) + Perpetrator Ethnicity(-0.39) + Relationship (-0.45)*\n",
    "\n",
    "If we consider the Smoothened Data the function of Crime Solved has only one Strong Correlation (-0.13) with Perpetrator Sex\n",
    "\n",
    "*f(CS) ~ Perpetrator Sex (-0.13)*\n",
    "\n",
    "This changes the scenarios a lot while selecting the features to generate the learning and predictive models."
   ]
  },
  {
   "cell_type": "markdown",
   "metadata": {},
   "source": [
    "Let's try to build a predictive model with a classification algorithm - Naive Bayes. We'll use the **SparklyR** package and **Spark** to build this model."
   ]
  },
  {
   "cell_type": "markdown",
   "metadata": {
    "collapsed": false
   },
   "source": [
    "require(sparklyr)\n",
    "sc<-spark_connect(master=\"local\")"
   ]
  },
  {
   "cell_type": "markdown",
   "metadata": {
    "collapsed": false
   },
   "source": [
    "#First, Import the local data as spark dataframe\n",
    "\n",
    "import_hc<- copy_to(sc,hc_smooth,\"hc_spark\",overwrite = T)\n",
    "\n",
    "#Now, let's partition the data for training and testing\n",
    "\n",
    "partition<- sdf_partition(import_hc,training=0.8, testing=0.2,seed = 2017)\n",
    "\n",
    "#Lastly, let's register the spark tables for training and testing\n",
    "\n",
    "partitioned_hc<-sdf_register(partition,c(\"spark_hc_training\",\"spark_hc_test\"))\n",
    "\n",
    "train_hc <- tbl(sc,\"spark_hc_training\")\n",
    "test_hc <- tbl(sc,\"spark_hc_test\")"
   ]
  },
  {
   "cell_type": "markdown",
   "metadata": {},
   "source": [
    "This code has created a local spark cluster, imported the data to that cluster, partitioned it in 8:2 ratio for training and testing and registered two spark tables containing the parititioned data."
   ]
  },
  {
   "cell_type": "markdown",
   "metadata": {},
   "source": [
    "Let's now develope the Naive Bayes learning model."
   ]
  },
  {
   "cell_type": "markdown",
   "metadata": {
    "collapsed": false
   },
   "source": [
    "model_nb <- train_hc %>% ml_naive_bayes(Crime_Solved~.,lambda = 2)"
   ]
  },
  {
   "cell_type": "markdown",
   "metadata": {},
   "source": [
    "This code has developed the model. We are interested in the learning the Crime Solved variable. How it behaves in the dataset and can we learn its magnitude and pattern in a way that we can later on predict it using the developed model over the test dataset.\n",
    "\n",
    "Let see the summary of the model."
   ]
  },
  {
   "cell_type": "markdown",
   "metadata": {
    "collapsed": false
   },
   "source": [
    "summary(model_nb)"
   ]
  },
  {
   "cell_type": "markdown",
   "metadata": {},
   "source": [
    "This summary shows how the NB worked on the dataset provided. It found the prior probabilities and then compared it with conditional probabilities for Yes(2) and No(1)"
   ]
  },
  {
   "cell_type": "markdown",
   "metadata": {},
   "source": [
    "We have trained the model on the train dataset, now let's use the model to predict the Crime Solved parameter in test dataset. The following code will take in the trained model and test dataset in the arguments and creates a seperate prediction column in the stored vector. This prdiction column can be used to compare the original v predicted results."
   ]
  },
  {
   "cell_type": "markdown",
   "metadata": {
    "collapsed": true
   },
   "source": [
    "pred_nb <- sdf_predict(model_nb,test_hc) %>% collect()"
   ]
  },
  {
   "cell_type": "markdown",
   "metadata": {},
   "source": [
    "Now, let's prepare a comperative table of Actual Yes and No in the Crime Solved column v the Predicted column Yes and No"
   ]
  },
  {
   "cell_type": "markdown",
   "metadata": {
    "collapsed": false
   },
   "source": [
    "t2<-table(pred_nb$Crime_Solved,pred_nb$prediction)\n",
    "t2"
   ]
  },
  {
   "cell_type": "markdown",
   "metadata": {},
   "source": [
    "This small table shows that, when in Actual it was No(1) the algorithm predicted 26 times No(0) and 103 times Yes(1). This means that the algorithm was wrong 115 times out of 26+103 = 129 times.\n",
    "\n",
    "The same calculation goes for Yes(2). It predicted 5181 times No(0) and 79136 times Yes(1). The accuracy is 79136 out of 5181+79136 = 84317.\n",
    "\n",
    "In total, the algorithm was accurate 26+79136 = 79162 times out of 26+103+5181+79136 = 84446. So, the accuracy is \n",
    "79162/84446 = 0.937427468 ... or 93.74%.\n",
    "\n",
    "Same calculation is shown below."
   ]
  },
  {
   "cell_type": "markdown",
   "metadata": {
    "collapsed": false
   },
   "source": [
    "((t2[1,1] + t2[2,2])/nrow(pred_nb)*100)"
   ]
  },
  {
   "cell_type": "markdown",
   "metadata": {},
   "source": [
    "We have set seed as 2017 prior to running the algorithm so in each run the accuracy level will be the same.\n",
    "\n",
    "Now we have set in a process flow on how to train the algorithm, build the model, predict it with the test data and measure the accuracy level. We can use this process flow and observe the other algorithms also. Let's try with RFM (Random Forest Model).\n",
    "\n",
    "Below codes will repeat the process flow; build and train the model, predict with it and measure the accuracy level."
   ]
  },
  {
   "cell_type": "markdown",
   "metadata": {
    "collapsed": false
   },
   "source": [
    "model_rfm <- train_hc %>%\n",
    "  ml_random_forest(Crime_Solved~.,num.trees = 25,type = \"classification\")\n",
    "\n",
    "pred_rfm <- sdf_predict(model_rfm, test_hc) %>% collect()"
   ]
  },
  {
   "cell_type": "markdown",
   "metadata": {
    "collapsed": false
   },
   "source": [
    "t<-table(pred_rfm$Crime_Solved,pred_rfm$prediction)\n",
    "t"
   ]
  },
  {
   "cell_type": "markdown",
   "metadata": {
    "collapsed": false
   },
   "source": [
    "((t[1,1] + t[2,2])/nrow(pred_rfm)*100)"
   ]
  },
  {
   "cell_type": "markdown",
   "metadata": {},
   "source": [
    "As we can see that, the RFM worked at a better level of accuracy than of NB."
   ]
  },
  {
   "cell_type": "markdown",
   "metadata": {},
   "source": [
    "Let's now use the K-means model. We'll build and train the model, predict the model and measure the accuracy."
   ]
  },
  {
   "cell_type": "markdown",
   "metadata": {
    "collapsed": false
   },
   "source": [
    "model_kmeans<- train_hc %>% select(Crime_Solved,\n",
    "                                   State,\n",
    "                                   Crime_Type,\n",
    "                                   Victim_Sex,\n",
    "                                   Victim_Age,\n",
    "                                   Victim_Race,\n",
    "                                   Victim_Ethnicity,\n",
    "                                   Perpetrator_Sex,\n",
    "                                   Perpetrator_Age,\n",
    "                                   Perpetrator_Race,\n",
    "                                   Perpetrator_Ethnicity,\n",
    "                                   Relationship,\n",
    "                                   Weapon) %>% \n",
    "                            ml_kmeans(centers=2,iter.max = 1000,compute.cost = T,ml.options = ml_options(only.model = F))"
   ]
  },
  {
   "cell_type": "markdown",
   "metadata": {
    "collapsed": false
   },
   "source": [
    "print(model_kmeans)"
   ]
  },
  {
   "cell_type": "markdown",
   "metadata": {
    "collapsed": false
   },
   "source": [
    "pred_kmeans<-sdf_predict(model_kmeans,test_hc) %>% collect()\n",
    "t2<-table(pred_kmeans$Crime_Solved,pred_kmeans$prediction)\n",
    "t2"
   ]
  },
  {
   "cell_type": "markdown",
   "metadata": {
    "collapsed": false
   },
   "source": [
    "((t2[1,1] + t2[2,2])/nrow(pred_kmeans)*100)"
   ]
  },
  {
   "cell_type": "markdown",
   "metadata": {},
   "source": [
    "As we can notice that, the accuracy of K-means algorithm is just ~69% as compared to NB (~94%) and RFM (~99.99%).\n",
    "\n",
    "**** There are many parameters on which these models can be compared aprt from the Accuracy. Accuracy may not be the only and final measure to understand the model's efficiency over the given data."
   ]
  },
  {
   "cell_type": "markdown",
   "metadata": {
    "collapsed": true
   },
   "source": [
    "Summary of learning and predicting,\n",
    "Disclaimer,\n",
    "Questions to be asked\n",
    "What is not covered up\n",
    "Create a copy of the notebook and  Silent the Sparklyr codes to upload it to the Kaggle"
   ]
  },
  {
   "cell_type": "markdown",
   "metadata": {},
   "source": [
    "This section now lead us to the end of this article. There are still few aspects of the data which I wasn't able to cover in this article because of limited time available. Some of them are listed below."
   ]
  },
  {
   "cell_type": "markdown",
   "metadata": {},
   "source": [
    "## Questions to dataset !"
   ]
  },
  {
   "cell_type": "markdown",
   "metadata": {},
   "source": [
    "One can ask some of the given questions to this dataset. This questions' answers will help to understand the dataset more in depth.\n",
    "\n",
    "    1) Is there any sepcific distribution pertaining to Years? \n",
    "    If the Crime Incidents are higher than normal average in any particular Year, one can understand the situations or socio-eco-political events, state-wise to evaluate the reasoning.\n",
    "    \n",
    "    2) Is there any specific Crime Type common over the Years, State with Specific Weapon over the Victim & Perpetrator Age  range, Sex, Race and Ethnicity? Does the relation between Victim and Perpetrator showcase any specific deduction? \n",
    "    (In depth analysis done by --  Kheirallah Samaha http://bit.ly/2m1dH1z)\n",
    "    \n",
    "    3) Is there any specific crime pattern State-wise which can be predicted? \n",
    "    May be one can train the model specific to any state to predict the Age range, Relationship based on Victim and Perpetrator Race & Ethnicity. \n",
    "    This will help the authorities to understand the involvement of a perpetrator where most of the details are hard to define or not available at all."
   ]
  },
  {
   "cell_type": "markdown",
   "metadata": {},
   "source": [
    "## Covered and missed !"
   ]
  },
  {
   "cell_type": "markdown",
   "metadata": {},
   "source": [
    "Though, I was able to cover the data pre-processing, correlations & implications of them, model development and prediction using them, I have missed many of the crucial aspects of process in each segment. I may try to make few anecdotals to this version in future containing my understanding of these sections."
   ]
  },
  {
   "cell_type": "markdown",
   "metadata": {},
   "source": [
    "## Disclaimer !!"
   ]
  },
  {
   "cell_type": "markdown",
   "metadata": {},
   "source": [
    "In no way, this is the complete and only work that can be prepared on this dataset, neither this work is immune to fatal error. This is just a try to understand and explore individual skillset in datascience.\n",
    "\n",
    "*I had to silent the Modelling part in Spark as I am yet to learn how Spark can be rolled out over the Kaggle scripting frames, but it is very easy if one wants to reproduce this part; just convert the MARKDOWN cells to CODE and run it on the local system*\n",
    "\n",
    "**** All the codes are reproducible\n",
    "\n",
    "#### Comments are always welcomed & if you like the effort please share & vote\n",
    "\n",
    "Thanks !"
   ]
  }
 ],
 "metadata": {
  "kernelspec": {
   "display_name": "R",
   "language": "R",
   "name": "ir"
  },
  "language_info": {
   "codemirror_mode": "r",
   "file_extension": ".r",
   "mimetype": "text/x-r-source",
   "name": "R",
   "pygments_lexer": "r",
   "version": "3.3.2"
  }
 },
 "nbformat": 4,
 "nbformat_minor": 2
}
